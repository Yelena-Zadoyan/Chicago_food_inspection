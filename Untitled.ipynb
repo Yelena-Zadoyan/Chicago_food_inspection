{
 "cells": [
  {
   "cell_type": "code",
   "execution_count": 1,
   "metadata": {
    "scrolled": true
   },
   "outputs": [
    {
     "name": "stderr",
     "output_type": "stream",
     "text": [
      "\n",
      "Bad key \"text.kerning_factor\" on line 4 in\n",
      "C:\\Users\\Yelena\\Anaconda3\\lib\\site-packages\\matplotlib\\mpl-data\\stylelib\\_classic_test_patch.mplstyle.\n",
      "You probably need to get an updated matplotlibrc file from\n",
      "http://github.com/matplotlib/matplotlib/blob/master/matplotlibrc.template\n",
      "or from the matplotlib source distribution\n"
     ]
    }
   ],
   "source": [
    "import pandas as pd\n",
    "import numpy as np\n",
    "import matplotlib.pyplot as plt\n",
    "import seaborn as sns"
   ]
  },
  {
   "cell_type": "markdown",
   "metadata": {},
   "source": [
    "**# 1 Data preprocessing**"
   ]
  },
  {
   "cell_type": "code",
   "execution_count": 274,
   "metadata": {},
   "outputs": [
    {
     "data": {
      "text/html": [
       "<div>\n",
       "<style scoped>\n",
       "    .dataframe tbody tr th:only-of-type {\n",
       "        vertical-align: middle;\n",
       "    }\n",
       "\n",
       "    .dataframe tbody tr th {\n",
       "        vertical-align: top;\n",
       "    }\n",
       "\n",
       "    .dataframe thead th {\n",
       "        text-align: right;\n",
       "    }\n",
       "</style>\n",
       "<table border=\"1\" class=\"dataframe\">\n",
       "  <thead>\n",
       "    <tr style=\"text-align: right;\">\n",
       "      <th></th>\n",
       "      <th>Inspection ID</th>\n",
       "      <th>DBA Name</th>\n",
       "      <th>AKA Name</th>\n",
       "      <th>License #</th>\n",
       "      <th>Facility Type</th>\n",
       "      <th>Risk</th>\n",
       "      <th>Address</th>\n",
       "      <th>City</th>\n",
       "      <th>State</th>\n",
       "      <th>Zip</th>\n",
       "      <th>Inspection Date</th>\n",
       "      <th>Inspection Type</th>\n",
       "      <th>Results</th>\n",
       "      <th>Violations</th>\n",
       "      <th>Latitude</th>\n",
       "      <th>Longitude</th>\n",
       "      <th>Location</th>\n",
       "    </tr>\n",
       "  </thead>\n",
       "  <tbody>\n",
       "    <tr>\n",
       "      <th>0</th>\n",
       "      <td>2571281</td>\n",
       "      <td>AFC SUSHI @ JEWEL OSCO #3349</td>\n",
       "      <td>AFC SUSHI @ JEWEL OSCO #3349</td>\n",
       "      <td>2841387.0</td>\n",
       "      <td>Shared Kitchen User (Long Term)</td>\n",
       "      <td>Risk 1 (High)</td>\n",
       "      <td>16915 N HAAS AVE</td>\n",
       "      <td>TORRANCE</td>\n",
       "      <td>CA</td>\n",
       "      <td>90504.0</td>\n",
       "      <td>2/15/2023</td>\n",
       "      <td>Canvass</td>\n",
       "      <td>Pass</td>\n",
       "      <td>NaN</td>\n",
       "      <td>NaN</td>\n",
       "      <td>NaN</td>\n",
       "      <td>NaN</td>\n",
       "    </tr>\n",
       "    <tr>\n",
       "      <th>1</th>\n",
       "      <td>2569647</td>\n",
       "      <td>Sauganash Elementary School</td>\n",
       "      <td>Sauganash Elementary School</td>\n",
       "      <td>25211.0</td>\n",
       "      <td>School</td>\n",
       "      <td>Risk 1 (High)</td>\n",
       "      <td>6040 N Kilpatrick (4700W) AVE</td>\n",
       "      <td>CHICAGO</td>\n",
       "      <td>IL</td>\n",
       "      <td>60646.0</td>\n",
       "      <td>1/13/2023</td>\n",
       "      <td>Canvass</td>\n",
       "      <td>Pass</td>\n",
       "      <td>NaN</td>\n",
       "      <td>NaN</td>\n",
       "      <td>NaN</td>\n",
       "      <td>NaN</td>\n",
       "    </tr>\n",
       "    <tr>\n",
       "      <th>2</th>\n",
       "      <td>2569445</td>\n",
       "      <td>JERSEY MIKES</td>\n",
       "      <td>JERSEY MIKE'S</td>\n",
       "      <td>2886344.0</td>\n",
       "      <td>Restaurant</td>\n",
       "      <td>Risk 1 (High)</td>\n",
       "      <td>6153 N BROADWAY</td>\n",
       "      <td>CHICAGO</td>\n",
       "      <td>IL</td>\n",
       "      <td>60660.0</td>\n",
       "      <td>1/10/2023</td>\n",
       "      <td>License</td>\n",
       "      <td>Not Ready</td>\n",
       "      <td>NaN</td>\n",
       "      <td>41.993854</td>\n",
       "      <td>-87.660239</td>\n",
       "      <td>(41.99385357489393, -87.66023863563797)</td>\n",
       "    </tr>\n",
       "    <tr>\n",
       "      <th>3</th>\n",
       "      <td>2568003</td>\n",
       "      <td>HOT DOG EXPRESS</td>\n",
       "      <td>HOT DOG EXPRESS (T2  E5)</td>\n",
       "      <td>1909525.0</td>\n",
       "      <td>Restaurant</td>\n",
       "      <td>Risk 2 (Medium)</td>\n",
       "      <td>11601 W TOUHY AVE</td>\n",
       "      <td>CHICAGO</td>\n",
       "      <td>IL</td>\n",
       "      <td>60666.0</td>\n",
       "      <td>12/5/2022</td>\n",
       "      <td>Canvass</td>\n",
       "      <td>Pass</td>\n",
       "      <td>NaN</td>\n",
       "      <td>42.008536</td>\n",
       "      <td>-87.914428</td>\n",
       "      <td>(42.008536400868735, -87.91442843927047)</td>\n",
       "    </tr>\n",
       "    <tr>\n",
       "      <th>4</th>\n",
       "      <td>2567972</td>\n",
       "      <td>SBARRO</td>\n",
       "      <td>SBARRO</td>\n",
       "      <td>2882176.0</td>\n",
       "      <td>Restaurant</td>\n",
       "      <td>Risk 1 (High)</td>\n",
       "      <td>500 W MADISON ST</td>\n",
       "      <td>CHICAGO</td>\n",
       "      <td>IL</td>\n",
       "      <td>60661.0</td>\n",
       "      <td>12/5/2022</td>\n",
       "      <td>License</td>\n",
       "      <td>Not Ready</td>\n",
       "      <td>NaN</td>\n",
       "      <td>41.881994</td>\n",
       "      <td>-87.639759</td>\n",
       "      <td>(41.88199433820508, -87.6397586848809)</td>\n",
       "    </tr>\n",
       "  </tbody>\n",
       "</table>\n",
       "</div>"
      ],
      "text/plain": [
       "   Inspection ID                      DBA Name                      AKA Name  \\\n",
       "0        2571281  AFC SUSHI @ JEWEL OSCO #3349  AFC SUSHI @ JEWEL OSCO #3349   \n",
       "1        2569647   Sauganash Elementary School   Sauganash Elementary School   \n",
       "2        2569445                  JERSEY MIKES                 JERSEY MIKE'S   \n",
       "3        2568003               HOT DOG EXPRESS      HOT DOG EXPRESS (T2  E5)   \n",
       "4        2567972                        SBARRO                        SBARRO   \n",
       "\n",
       "   License #                    Facility Type             Risk  \\\n",
       "0  2841387.0  Shared Kitchen User (Long Term)    Risk 1 (High)   \n",
       "1    25211.0                           School    Risk 1 (High)   \n",
       "2  2886344.0                       Restaurant    Risk 1 (High)   \n",
       "3  1909525.0                       Restaurant  Risk 2 (Medium)   \n",
       "4  2882176.0                       Restaurant    Risk 1 (High)   \n",
       "\n",
       "                          Address      City State      Zip Inspection Date  \\\n",
       "0               16915 N HAAS AVE   TORRANCE    CA  90504.0       2/15/2023   \n",
       "1  6040 N Kilpatrick (4700W) AVE    CHICAGO    IL  60646.0       1/13/2023   \n",
       "2                6153 N BROADWAY    CHICAGO    IL  60660.0       1/10/2023   \n",
       "3              11601 W TOUHY AVE    CHICAGO    IL  60666.0       12/5/2022   \n",
       "4               500 W MADISON ST    CHICAGO    IL  60661.0       12/5/2022   \n",
       "\n",
       "  Inspection Type    Results Violations   Latitude  Longitude  \\\n",
       "0         Canvass       Pass        NaN        NaN        NaN   \n",
       "1         Canvass       Pass        NaN        NaN        NaN   \n",
       "2         License  Not Ready        NaN  41.993854 -87.660239   \n",
       "3         Canvass       Pass        NaN  42.008536 -87.914428   \n",
       "4         License  Not Ready        NaN  41.881994 -87.639759   \n",
       "\n",
       "                                   Location  \n",
       "0                                       NaN  \n",
       "1                                       NaN  \n",
       "2   (41.99385357489393, -87.66023863563797)  \n",
       "3  (42.008536400868735, -87.91442843927047)  \n",
       "4    (41.88199433820508, -87.6397586848809)  "
      ]
     },
     "execution_count": 274,
     "metadata": {},
     "output_type": "execute_result"
    }
   ],
   "source": [
    "data = pd.read_csv('Food_Inspections.csv')\n",
    "data.head()"
   ]
  },
  {
   "cell_type": "code",
   "execution_count": 275,
   "metadata": {},
   "outputs": [
    {
     "data": {
      "text/plain": [
       "(256789, 17)"
      ]
     },
     "execution_count": 275,
     "metadata": {},
     "output_type": "execute_result"
    }
   ],
   "source": [
    "data.shape"
   ]
  },
  {
   "cell_type": "code",
   "execution_count": 276,
   "metadata": {},
   "outputs": [
    {
     "name": "stdout",
     "output_type": "stream",
     "text": [
      "Inspection ID        int64\n",
      "DBA Name            object\n",
      "AKA Name            object\n",
      "License #          float64\n",
      "Facility Type       object\n",
      "Risk                object\n",
      "Address             object\n",
      "City                object\n",
      "State               object\n",
      "Zip                float64\n",
      "Inspection Date     object\n",
      "Inspection Type     object\n",
      "Results             object\n",
      "Violations          object\n",
      "Latitude           float64\n",
      "Longitude          float64\n",
      "Location            object\n",
      "dtype: object\n"
     ]
    }
   ],
   "source": [
    "print(data.dtypes)"
   ]
  },
  {
   "cell_type": "code",
   "execution_count": 277,
   "metadata": {},
   "outputs": [
    {
     "data": {
      "text/plain": [
       "array(['Pass', 'Not Ready', 'Fail', 'No Entry', 'Out of Business',\n",
       "       'Pass w/ Conditions', 'Business Not Located'], dtype=object)"
      ]
     },
     "execution_count": 277,
     "metadata": {},
     "output_type": "execute_result"
    }
   ],
   "source": [
    "data['Results'].unique()"
   ]
  },
  {
   "cell_type": "code",
   "execution_count": 278,
   "metadata": {},
   "outputs": [],
   "source": [
    "#dropping the results that do not contain pass or fail\n",
    "data = data.drop(data[~((data['Results'] == 'Pass') | (data['Results'] == 'Fail'))].index)"
   ]
  },
  {
   "cell_type": "code",
   "execution_count": 279,
   "metadata": {},
   "outputs": [],
   "source": [
    "data = pd.concat([data, pd.get_dummies(data['Results'])], axis=1)"
   ]
  },
  {
   "cell_type": "code",
   "execution_count": 282,
   "metadata": {},
   "outputs": [],
   "source": [
    "data = data.drop(['Results', 'Pass'], axis=1)"
   ]
  },
  {
   "cell_type": "code",
   "execution_count": 285,
   "metadata": {},
   "outputs": [
    {
     "data": {
      "text/html": [
       "<div>\n",
       "<style scoped>\n",
       "    .dataframe tbody tr th:only-of-type {\n",
       "        vertical-align: middle;\n",
       "    }\n",
       "\n",
       "    .dataframe tbody tr th {\n",
       "        vertical-align: top;\n",
       "    }\n",
       "\n",
       "    .dataframe thead th {\n",
       "        text-align: right;\n",
       "    }\n",
       "</style>\n",
       "<table border=\"1\" class=\"dataframe\">\n",
       "  <thead>\n",
       "    <tr style=\"text-align: right;\">\n",
       "      <th></th>\n",
       "      <th>Inspection ID</th>\n",
       "      <th>DBA Name</th>\n",
       "      <th>AKA Name</th>\n",
       "      <th>License #</th>\n",
       "      <th>Facility Type</th>\n",
       "      <th>Risk</th>\n",
       "      <th>Address</th>\n",
       "      <th>City</th>\n",
       "      <th>State</th>\n",
       "      <th>Zip</th>\n",
       "      <th>Inspection Date</th>\n",
       "      <th>Inspection Type</th>\n",
       "      <th>Violations</th>\n",
       "      <th>Latitude</th>\n",
       "      <th>Longitude</th>\n",
       "      <th>Location</th>\n",
       "      <th>Fail</th>\n",
       "    </tr>\n",
       "  </thead>\n",
       "  <tbody>\n",
       "    <tr>\n",
       "      <th>0</th>\n",
       "      <td>2571281</td>\n",
       "      <td>AFC SUSHI @ JEWEL OSCO #3349</td>\n",
       "      <td>AFC SUSHI @ JEWEL OSCO #3349</td>\n",
       "      <td>2841387.0</td>\n",
       "      <td>Shared Kitchen User (Long Term)</td>\n",
       "      <td>Risk 1 (High)</td>\n",
       "      <td>16915 N HAAS AVE</td>\n",
       "      <td>TORRANCE</td>\n",
       "      <td>CA</td>\n",
       "      <td>90504.0</td>\n",
       "      <td>2/15/2023</td>\n",
       "      <td>Canvass</td>\n",
       "      <td>NaN</td>\n",
       "      <td>NaN</td>\n",
       "      <td>NaN</td>\n",
       "      <td>NaN</td>\n",
       "      <td>0</td>\n",
       "    </tr>\n",
       "    <tr>\n",
       "      <th>1</th>\n",
       "      <td>2569647</td>\n",
       "      <td>Sauganash Elementary School</td>\n",
       "      <td>Sauganash Elementary School</td>\n",
       "      <td>25211.0</td>\n",
       "      <td>School</td>\n",
       "      <td>Risk 1 (High)</td>\n",
       "      <td>6040 N Kilpatrick (4700W) AVE</td>\n",
       "      <td>CHICAGO</td>\n",
       "      <td>IL</td>\n",
       "      <td>60646.0</td>\n",
       "      <td>1/13/2023</td>\n",
       "      <td>Canvass</td>\n",
       "      <td>NaN</td>\n",
       "      <td>NaN</td>\n",
       "      <td>NaN</td>\n",
       "      <td>NaN</td>\n",
       "      <td>0</td>\n",
       "    </tr>\n",
       "    <tr>\n",
       "      <th>3</th>\n",
       "      <td>2568003</td>\n",
       "      <td>HOT DOG EXPRESS</td>\n",
       "      <td>HOT DOG EXPRESS (T2  E5)</td>\n",
       "      <td>1909525.0</td>\n",
       "      <td>Restaurant</td>\n",
       "      <td>Risk 2 (Medium)</td>\n",
       "      <td>11601 W TOUHY AVE</td>\n",
       "      <td>CHICAGO</td>\n",
       "      <td>IL</td>\n",
       "      <td>60666.0</td>\n",
       "      <td>12/5/2022</td>\n",
       "      <td>Canvass</td>\n",
       "      <td>NaN</td>\n",
       "      <td>42.008536</td>\n",
       "      <td>-87.914428</td>\n",
       "      <td>(42.008536400868735, -87.91442843927047)</td>\n",
       "      <td>0</td>\n",
       "    </tr>\n",
       "    <tr>\n",
       "      <th>5</th>\n",
       "      <td>2567789</td>\n",
       "      <td>EL POLLO REAL</td>\n",
       "      <td>EL POLLO REAL</td>\n",
       "      <td>2232132.0</td>\n",
       "      <td>Restaurant</td>\n",
       "      <td>Risk 1 (High)</td>\n",
       "      <td>3835 W 31ST ST</td>\n",
       "      <td>CHICAGO</td>\n",
       "      <td>IL</td>\n",
       "      <td>60623.0</td>\n",
       "      <td>11/30/2022</td>\n",
       "      <td>Canvass</td>\n",
       "      <td>NaN</td>\n",
       "      <td>41.836834</td>\n",
       "      <td>-87.720832</td>\n",
       "      <td>(41.836833676558776, -87.72083154727216)</td>\n",
       "      <td>0</td>\n",
       "    </tr>\n",
       "    <tr>\n",
       "      <th>6</th>\n",
       "      <td>2567065</td>\n",
       "      <td>PARK MANOR</td>\n",
       "      <td>PARK MANOR ELEMENTARY</td>\n",
       "      <td>24841.0</td>\n",
       "      <td>School</td>\n",
       "      <td>Risk 1 (High)</td>\n",
       "      <td>7037 S Rhodes (532E) AVE</td>\n",
       "      <td>CHICAGO</td>\n",
       "      <td>IL</td>\n",
       "      <td>60637.0</td>\n",
       "      <td>11/15/2022</td>\n",
       "      <td>Canvass</td>\n",
       "      <td>NaN</td>\n",
       "      <td>NaN</td>\n",
       "      <td>NaN</td>\n",
       "      <td>NaN</td>\n",
       "      <td>0</td>\n",
       "    </tr>\n",
       "  </tbody>\n",
       "</table>\n",
       "</div>"
      ],
      "text/plain": [
       "   Inspection ID                      DBA Name                      AKA Name  \\\n",
       "0        2571281  AFC SUSHI @ JEWEL OSCO #3349  AFC SUSHI @ JEWEL OSCO #3349   \n",
       "1        2569647   Sauganash Elementary School   Sauganash Elementary School   \n",
       "3        2568003               HOT DOG EXPRESS      HOT DOG EXPRESS (T2  E5)   \n",
       "5        2567789                 EL POLLO REAL                 EL POLLO REAL   \n",
       "6        2567065                    PARK MANOR         PARK MANOR ELEMENTARY   \n",
       "\n",
       "   License #                    Facility Type             Risk  \\\n",
       "0  2841387.0  Shared Kitchen User (Long Term)    Risk 1 (High)   \n",
       "1    25211.0                           School    Risk 1 (High)   \n",
       "3  1909525.0                       Restaurant  Risk 2 (Medium)   \n",
       "5  2232132.0                       Restaurant    Risk 1 (High)   \n",
       "6    24841.0                           School    Risk 1 (High)   \n",
       "\n",
       "                          Address      City State      Zip Inspection Date  \\\n",
       "0               16915 N HAAS AVE   TORRANCE    CA  90504.0       2/15/2023   \n",
       "1  6040 N Kilpatrick (4700W) AVE    CHICAGO    IL  60646.0       1/13/2023   \n",
       "3              11601 W TOUHY AVE    CHICAGO    IL  60666.0       12/5/2022   \n",
       "5                 3835 W 31ST ST    CHICAGO    IL  60623.0      11/30/2022   \n",
       "6       7037 S Rhodes (532E) AVE    CHICAGO    IL  60637.0      11/15/2022   \n",
       "\n",
       "  Inspection Type Violations   Latitude  Longitude  \\\n",
       "0         Canvass        NaN        NaN        NaN   \n",
       "1         Canvass        NaN        NaN        NaN   \n",
       "3         Canvass        NaN  42.008536 -87.914428   \n",
       "5         Canvass        NaN  41.836834 -87.720832   \n",
       "6         Canvass        NaN        NaN        NaN   \n",
       "\n",
       "                                   Location  Fail  \n",
       "0                                       NaN     0  \n",
       "1                                       NaN     0  \n",
       "3  (42.008536400868735, -87.91442843927047)     0  \n",
       "5  (41.836833676558776, -87.72083154727216)     0  \n",
       "6                                       NaN     0  "
      ]
     },
     "execution_count": 285,
     "metadata": {},
     "output_type": "execute_result"
    }
   ],
   "source": [
    "data.head()"
   ]
  },
  {
   "cell_type": "markdown",
   "metadata": {},
   "source": [
    "# Observing the City feature"
   ]
  },
  {
   "cell_type": "code",
   "execution_count": 181,
   "metadata": {},
   "outputs": [
    {
     "data": {
      "text/plain": [
       "66"
      ]
     },
     "execution_count": 181,
     "metadata": {},
     "output_type": "execute_result"
    }
   ],
   "source": [
    "data['City'].nunique()"
   ]
  },
  {
   "cell_type": "code",
   "execution_count": 182,
   "metadata": {},
   "outputs": [
    {
     "data": {
      "text/plain": [
       "array(['TORRANCE', 'CHICAGO', 'chicago', 'NILES NILES', nan, 'MAYWOOD',\n",
       "       'SCHAUMBURG', 'ELK GROVE VILLAGE', 'ELMHURST', 'BLOOMINGDALE',\n",
       "       'Chicago', 'CICERO', 'SKOKIE', 'CHCHICAGO', 'EVANSTON', 'JUSTICE',\n",
       "       'TINLEY PARK', 'BOLINGBROOK', 'LAKE ZURICH', 'WORTH', 'ALSIP',\n",
       "       'OAK PARK', 'CCHICAGO', 'CHicago', 'CHICAGO.', 'BURBANK',\n",
       "       'MERRIVILLE', 'WHITING', 'GLEN ELLYN', 'CALUMET CITY', 'BERWYN',\n",
       "       'BURNHAM', 'CHICAGOCHICAGO', 'EVERGREEN PARK', 'MORTON GROVE',\n",
       "       'PLAINFIELD', 'CHICAGOO', 'OAK LAWN', 'BRIDGEVIEW', 'GRIFFITH',\n",
       "       'LANSING', 'ROSEMONT', 'WADSWORTH', 'HIGHLAND PARK', 'PALOS PARK',\n",
       "       'SCHILLER PARK', 'LAKE BLUFF', '312CHICAGO', 'Norridge', 'LOMBARD',\n",
       "       'SUMMIT', 'OOLYMPIA FIELDS', 'CHICAGO HEIGHTS', 'STREAMWOOD',\n",
       "       'EAST HAZEL CREST', 'DES PLAINES', 'COUNTRY CLUB HILLS',\n",
       "       'OLYMPIA FIELDS', 'CHICAGOI', 'BLUE ISLAND', 'GLENCOE',\n",
       "       'FRANKFORT', 'BROADVIEW', 'NAPERVILLE', 'Maywood',\n",
       "       'CHARLES A HAYES', 'CHCICAGO'], dtype=object)"
      ]
     },
     "execution_count": 182,
     "metadata": {},
     "output_type": "execute_result"
    }
   ],
   "source": [
    "data['City'].unique()"
   ]
  },
  {
   "cell_type": "code",
   "execution_count": 183,
   "metadata": {},
   "outputs": [
    {
     "data": {
      "text/plain": [
       "CHICAGO            181503\n",
       "Chicago               285\n",
       "chicago               112\n",
       "CCHICAGO               43\n",
       "SCHAUMBURG             20\n",
       "                    ...  \n",
       "CHICAGO HEIGHTS         1\n",
       "LANSING                 1\n",
       "GRIFFITH                1\n",
       "OOLYMPIA FIELDS         1\n",
       "Norridge                1\n",
       "Name: City, Length: 66, dtype: int64"
      ]
     },
     "execution_count": 183,
     "metadata": {},
     "output_type": "execute_result"
    }
   ],
   "source": [
    "#will show the nnumber of inspections\n",
    "city_counts = data['City'].value_counts().sort_values(ascending=False)\n",
    "city_counts"
   ]
  },
  {
   "cell_type": "code",
   "execution_count": 184,
   "metadata": {},
   "outputs": [
    {
     "data": {
      "text/plain": [
       "City\n",
       "312CHICAGO       0.000000\n",
       "ALSIP           33.333333\n",
       "BERWYN          33.333333\n",
       "BLOOMINGDALE     0.000000\n",
       "BLUE ISLAND      0.000000\n",
       "                  ...    \n",
       "TORRANCE         0.000000\n",
       "WADSWORTH        0.000000\n",
       "WHITING          0.000000\n",
       "WORTH           80.000000\n",
       "chicago         23.214286\n",
       "Length: 66, dtype: float64"
      ]
     },
     "execution_count": 184,
     "metadata": {},
     "output_type": "execute_result"
    }
   ],
   "source": [
    "fail_percentage_by_city = data.groupby('City')['Fail'].sum() / data.groupby('City').size() * 100\n",
    "fail_percentage_by_city"
   ]
  },
  {
   "cell_type": "code",
   "execution_count": 185,
   "metadata": {},
   "outputs": [
    {
     "data": {
      "image/png": "[encoded data removed]",
      "text/plain": [
       "<Figure size 1080x432 with 2 Axes>"
      ]
     },
     "metadata": {},
     "output_type": "display_data"
    }
   ],
   "source": [
    "Failure_by_city = pd.DataFrame({'City': fail_percentage_by_city.index, 'Failure': fail_percentage_by_city.values, 'Num_Inspections': city_counts.values})\n",
    "Failure_by_city = Failure_by_city.sort_values(by='City')\n",
    "\n",
    "# Set up the figure and the first y-axis (fail percentage)\n",
    "fig, ax1 = plt.subplots(figsize=(15, 6))\n",
    "ax1 = sns.barplot(x='City', y='Failure', data=Failure_by_city, ax=ax1, color='steelblue')\n",
    "ax1.set_ylabel('Fail Percentage', color='steelblue')\n",
    "ax1.tick_params(axis='y', labelcolor='steelblue')\n",
    "\n",
    "# Create the second y-axis (number of inspections) and plot the bar graph\n",
    "ax2 = ax1.twinx()\n",
    "ax2 = sns.barplot(x='City', y='Num_Inspections', data=Failure_by_city, ax=ax2, color='lightcoral')\n",
    "ax2.set_ylabel('Number of Inspections', color='lightcoral')\n",
    "ax2.tick_params(axis='y', labelcolor='lightcoral')\n",
    "\n",
    "plt.title('Fail Percentage and Number of Inspections by City')\n",
    "plt.xlabel('City')\n",
    "plt.xticks(rotation=90)\n",
    "plt.show()"
   ]
  },
  {
   "cell_type": "code",
   "execution_count": 186,
   "metadata": {},
   "outputs": [
    {
     "data": {
      "image/png": "[encoded data removed]",
      "text/plain": [
       "<Figure size 1440x432 with 1 Axes>"
      ]
     },
     "metadata": {
      "needs_background": "light"
     },
     "output_type": "display_data"
    }
   ],
   "source": [
    "Failure_by_city = pd.DataFrame({'City': fail_percentage_by_city.index, 'Failure': fail_percentage_by_city})\n",
    "\n",
    "plt.figure(figsize=(20, 6))\n",
    "sns.barplot(x='City', y='Failure', data=Failure_by_city)\n",
    "\n",
    "plt.title('Fail Percentage by City')\n",
    "plt.xlabel('City')\n",
    "plt.ylabel('Fail Percentage')\n",
    "plt.xticks(rotation=90)\n",
    "plt.show()"
   ]
  },
  {
   "cell_type": "code",
   "execution_count": 187,
   "metadata": {},
   "outputs": [
    {
     "data": {
      "text/plain": [
       "29"
      ]
     },
     "execution_count": 187,
     "metadata": {},
     "output_type": "execute_result"
    }
   ],
   "source": [
    "city_fail_count = data.groupby('City')['Fail'].sum()>0\n",
    "city_fail_count.sum()"
   ]
  },
  {
   "cell_type": "code",
   "execution_count": 188,
   "metadata": {},
   "outputs": [],
   "source": [
    "# Filter the data for the specific city (CHICAGO)\n",
    "chicago_data = data[data['City'] == 'CHICAGO']\n",
    "\n",
    "# Calculate the fail percentage for CHICAGO\n",
    "fail_percentage_chicago = (chicago_data['Fail'].sum() / len(chicago_data)) * 100"
   ]
  },
  {
   "cell_type": "code",
   "execution_count": 189,
   "metadata": {},
   "outputs": [
    {
     "name": "stdout",
     "output_type": "stream",
     "text": [
      "181503\n"
     ]
    },
    {
     "data": {
      "text/plain": [
       "27.42103436306838"
      ]
     },
     "execution_count": 189,
     "metadata": {},
     "output_type": "execute_result"
    }
   ],
   "source": [
    "print(len(chicago_data))\n",
    "fail_percentage_chicago"
   ]
  },
  {
   "cell_type": "code",
   "execution_count": null,
   "metadata": {},
   "outputs": [],
   "source": []
  },
  {
   "cell_type": "code",
   "execution_count": 190,
   "metadata": {},
   "outputs": [
    {
     "data": {
      "text/plain": [
       "City\n",
       "Maywood       100.000000\n",
       "GRIFFITH      100.000000\n",
       "WORTH          80.000000\n",
       "SUMMIT         75.000000\n",
       "ROSEMONT       66.666667\n",
       "PLAINFIELD     66.666667\n",
       "dtype: float64"
      ]
     },
     "execution_count": 190,
     "metadata": {},
     "output_type": "execute_result"
    }
   ],
   "source": [
    "# show the cities with highest violation rate\n",
    "cities_with_highest_failures =  fail_percentage_by_city[fail_percentage_by_city > 50].sort_values(ascending=False)\n",
    "cities_with_highest_failures"
   ]
  },
  {
   "cell_type": "code",
   "execution_count": 191,
   "metadata": {},
   "outputs": [
    {
     "name": "stdout",
     "output_type": "stream",
     "text": [
      "         City     Failure  NumInspection\n",
      "0     Maywood  100.000000              1\n",
      "1    GRIFFITH  100.000000              1\n",
      "2       WORTH   80.000000              5\n",
      "3      SUMMIT   75.000000              4\n",
      "4    ROSEMONT   66.666667              3\n",
      "5  PLAINFIELD   66.666667              3\n"
     ]
    }
   ],
   "source": [
    "cities_with_high_fail = data[(data['City'] == 'Maywood') | (data['City'] == 'GRIFFITH') | (data['City'] == 'SUMMIT')\n",
    "                             | (data['City'] == 'WORTH') | (data['City'] == 'ROSEMONT') | (data['City'] == 'PLAINFIELD')]\n",
    "\n",
    "# Count the number of inspections for each city in the list\n",
    "num_inspections_high_fail = cities_with_high_fail['City'].value_counts().reset_index()\n",
    "num_inspections_high_fail.columns = ['City', 'NumInspection']\n",
    "\n",
    "inspections_with_high_failure = pd.DataFrame({'City': cities_with_highest_failures.index, \n",
    "                                              'Failure' : cities_with_highest_failures.values})\n",
    "\n",
    "merged_data = inspections_with_high_failure.merge(num_inspections_high_fail, on='City')\n",
    "\n",
    "print(merged_data)"
   ]
  },
  {
   "cell_type": "markdown",
   "metadata": {},
   "source": [
    "The City Feature will not be taken as an input variable because the same city is shown with different writing and only for one case most of the inspections are done: for CHICAGO with low failure rate of 27%. The other ciries with high violation rates have very few inspections."
   ]
  },
  {
   "cell_type": "code",
   "execution_count": 192,
   "metadata": {},
   "outputs": [],
   "source": [
    "#checking the city name accuracy through the longitide and latitude"
   ]
  },
  {
   "cell_type": "code",
   "execution_count": 193,
   "metadata": {},
   "outputs": [
    {
     "name": "stdout",
     "output_type": "stream",
     "text": [
      "Requirement already satisfied: geopy in c:\\users\\yelena\\anaconda3\\lib\\site-packages (2.3.0)\n",
      "Requirement already satisfied: geographiclib<3,>=1.52 in c:\\users\\yelena\\anaconda3\\lib\\site-packages (from geopy) (2.0)\n",
      "Note: you may need to restart the kernel to use updated packages.\n"
     ]
    }
   ],
   "source": [
    "pip install geopy"
   ]
  },
  {
   "cell_type": "code",
   "execution_count": 194,
   "metadata": {},
   "outputs": [],
   "source": [
    "from geopy.geocoders import Nominatim\n",
    "import concurrent.futures"
   ]
  },
  {
   "cell_type": "code",
   "execution_count": 195,
   "metadata": {},
   "outputs": [
    {
     "ename": "ValueError",
     "evalue": "('Must be a coordinate pair or Point', 'occurred at index 0')",
     "output_type": "error",
     "traceback": [
      "\u001b[1;31m---------------------------------------------------------------------------\u001b[0m",
      "\u001b[1;31mValueError\u001b[0m                                Traceback (most recent call last)",
      "\u001b[1;32m~\\Anaconda3\\lib\\site-packages\\geopy\\geocoders\\nominatim.py\u001b[0m in \u001b[0;36mreverse\u001b[1;34m(self, query, exactly_one, timeout, language, addressdetails, zoom, namedetails)\u001b[0m\n\u001b[0;32m    349\u001b[0m         \u001b[1;32mtry\u001b[0m\u001b[1;33m:\u001b[0m\u001b[1;33m\u001b[0m\u001b[1;33m\u001b[0m\u001b[0m\n\u001b[1;32m--> 350\u001b[1;33m             \u001b[0mlat\u001b[0m\u001b[1;33m,\u001b[0m \u001b[0mlon\u001b[0m \u001b[1;33m=\u001b[0m \u001b[0mself\u001b[0m\u001b[1;33m.\u001b[0m\u001b[0m_coerce_point_to_string\u001b[0m\u001b[1;33m(\u001b[0m\u001b[0mquery\u001b[0m\u001b[1;33m)\u001b[0m\u001b[1;33m.\u001b[0m\u001b[0msplit\u001b[0m\u001b[1;33m(\u001b[0m\u001b[1;34m','\u001b[0m\u001b[1;33m)\u001b[0m\u001b[1;33m\u001b[0m\u001b[1;33m\u001b[0m\u001b[0m\n\u001b[0m\u001b[0;32m    351\u001b[0m         \u001b[1;32mexcept\u001b[0m \u001b[0mValueError\u001b[0m\u001b[1;33m:\u001b[0m\u001b[1;33m\u001b[0m\u001b[1;33m\u001b[0m\u001b[0m\n",
      "\u001b[1;32m~\\Anaconda3\\lib\\site-packages\\geopy\\geocoders\\base.py\u001b[0m in \u001b[0;36m_coerce_point_to_string\u001b[1;34m(self, point, output_format)\u001b[0m\n\u001b[0;32m    299\u001b[0m         \u001b[1;32mif\u001b[0m \u001b[1;32mnot\u001b[0m \u001b[0misinstance\u001b[0m\u001b[1;33m(\u001b[0m\u001b[0mpoint\u001b[0m\u001b[1;33m,\u001b[0m \u001b[0mPoint\u001b[0m\u001b[1;33m)\u001b[0m\u001b[1;33m:\u001b[0m\u001b[1;33m\u001b[0m\u001b[1;33m\u001b[0m\u001b[0m\n\u001b[1;32m--> 300\u001b[1;33m             \u001b[0mpoint\u001b[0m \u001b[1;33m=\u001b[0m \u001b[0mPoint\u001b[0m\u001b[1;33m(\u001b[0m\u001b[0mpoint\u001b[0m\u001b[1;33m)\u001b[0m\u001b[1;33m\u001b[0m\u001b[1;33m\u001b[0m\u001b[0m\n\u001b[0m\u001b[0;32m    301\u001b[0m \u001b[1;33m\u001b[0m\u001b[0m\n",
      "\u001b[1;32m~\\Anaconda3\\lib\\site-packages\\geopy\\point.py\u001b[0m in \u001b[0;36m__new__\u001b[1;34m(cls, latitude, longitude, altitude)\u001b[0m\n\u001b[0;32m    174\u001b[0m                 \u001b[1;32melse\u001b[0m\u001b[1;33m:\u001b[0m\u001b[1;33m\u001b[0m\u001b[1;33m\u001b[0m\u001b[0m\n\u001b[1;32m--> 175\u001b[1;33m                     \u001b[1;32mreturn\u001b[0m \u001b[0mcls\u001b[0m\u001b[1;33m.\u001b[0m\u001b[0mfrom_sequence\u001b[0m\u001b[1;33m(\u001b[0m\u001b[0mseq\u001b[0m\u001b[1;33m)\u001b[0m\u001b[1;33m\u001b[0m\u001b[1;33m\u001b[0m\u001b[0m\n\u001b[0m\u001b[0;32m    176\u001b[0m \u001b[1;33m\u001b[0m\u001b[0m\n",
      "\u001b[1;32m~\\Anaconda3\\lib\\site-packages\\geopy\\point.py\u001b[0m in \u001b[0;36mfrom_sequence\u001b[1;34m(cls, seq)\u001b[0m\n\u001b[0;32m    471\u001b[0m                              'must not have more than 3 items.')\n\u001b[1;32m--> 472\u001b[1;33m         \u001b[1;32mreturn\u001b[0m \u001b[0mcls\u001b[0m\u001b[1;33m(\u001b[0m\u001b[1;33m*\u001b[0m\u001b[0margs\u001b[0m\u001b[1;33m)\u001b[0m\u001b[1;33m\u001b[0m\u001b[1;33m\u001b[0m\u001b[0m\n\u001b[0m\u001b[0;32m    473\u001b[0m \u001b[1;33m\u001b[0m\u001b[0m\n",
      "\u001b[1;32m~\\Anaconda3\\lib\\site-packages\\geopy\\point.py\u001b[0m in \u001b[0;36m__new__\u001b[1;34m(cls, latitude, longitude, altitude)\u001b[0m\n\u001b[0;32m    187\u001b[0m         \u001b[0mlatitude\u001b[0m\u001b[1;33m,\u001b[0m \u001b[0mlongitude\u001b[0m\u001b[1;33m,\u001b[0m \u001b[0maltitude\u001b[0m \u001b[1;33m=\u001b[0m\u001b[0;31m \u001b[0m\u001b[0;31m\\\u001b[0m\u001b[1;33m\u001b[0m\u001b[1;33m\u001b[0m\u001b[0m\n\u001b[1;32m--> 188\u001b[1;33m             \u001b[0m_normalize_coordinates\u001b[0m\u001b[1;33m(\u001b[0m\u001b[0mlatitude\u001b[0m\u001b[1;33m,\u001b[0m \u001b[0mlongitude\u001b[0m\u001b[1;33m,\u001b[0m \u001b[0maltitude\u001b[0m\u001b[1;33m)\u001b[0m\u001b[1;33m\u001b[0m\u001b[1;33m\u001b[0m\u001b[0m\n\u001b[0m\u001b[0;32m    189\u001b[0m \u001b[1;33m\u001b[0m\u001b[0m\n",
      "\u001b[1;32m~\\Anaconda3\\lib\\site-packages\\geopy\\point.py\u001b[0m in \u001b[0;36m_normalize_coordinates\u001b[1;34m(latitude, longitude, altitude)\u001b[0m\n\u001b[0;32m     63\u001b[0m         raise ValueError('Point coordinates must be finite. %r has been passed '\n\u001b[1;32m---> 64\u001b[1;33m                          'as coordinates.' % ((latitude, longitude, altitude),))\n\u001b[0m\u001b[0;32m     65\u001b[0m \u001b[1;33m\u001b[0m\u001b[0m\n",
      "\u001b[1;31mValueError\u001b[0m: Point coordinates must be finite. (nan, nan, 0.0) has been passed as coordinates.",
      "\nDuring handling of the above exception, another exception occurred:\n",
      "\u001b[1;31mValueError\u001b[0m                                Traceback (most recent call last)",
      "\u001b[1;32m<ipython-input-195-f737d4b1248e>\u001b[0m in \u001b[0;36m<module>\u001b[1;34m\u001b[0m\n\u001b[0;32m     11\u001b[0m \u001b[1;33m\u001b[0m\u001b[0m\n\u001b[0;32m     12\u001b[0m \u001b[1;31m# Apply the function to the DataFrame to create a new column 'city_by_location'\u001b[0m\u001b[1;33m\u001b[0m\u001b[1;33m\u001b[0m\u001b[1;33m\u001b[0m\u001b[0m\n\u001b[1;32m---> 13\u001b[1;33m \u001b[0mdata\u001b[0m\u001b[1;33m[\u001b[0m\u001b[1;34m'city_by_location'\u001b[0m\u001b[1;33m]\u001b[0m \u001b[1;33m=\u001b[0m \u001b[0mdata\u001b[0m\u001b[1;33m.\u001b[0m\u001b[0mapply\u001b[0m\u001b[1;33m(\u001b[0m\u001b[0mget_city_name\u001b[0m\u001b[1;33m,\u001b[0m \u001b[0maxis\u001b[0m\u001b[1;33m=\u001b[0m\u001b[1;36m1\u001b[0m\u001b[1;33m)\u001b[0m\u001b[1;33m\u001b[0m\u001b[1;33m\u001b[0m\u001b[0m\n\u001b[0m",
      "\u001b[1;32m~\\Anaconda3\\lib\\site-packages\\pandas\\core\\frame.py\u001b[0m in \u001b[0;36mapply\u001b[1;34m(self, func, axis, broadcast, raw, reduce, result_type, args, **kwds)\u001b[0m\n\u001b[0;32m   6926\u001b[0m             \u001b[0mkwds\u001b[0m\u001b[1;33m=\u001b[0m\u001b[0mkwds\u001b[0m\u001b[1;33m,\u001b[0m\u001b[1;33m\u001b[0m\u001b[1;33m\u001b[0m\u001b[0m\n\u001b[0;32m   6927\u001b[0m         )\n\u001b[1;32m-> 6928\u001b[1;33m         \u001b[1;32mreturn\u001b[0m \u001b[0mop\u001b[0m\u001b[1;33m.\u001b[0m\u001b[0mget_result\u001b[0m\u001b[1;33m(\u001b[0m\u001b[1;33m)\u001b[0m\u001b[1;33m\u001b[0m\u001b[1;33m\u001b[0m\u001b[0m\n\u001b[0m\u001b[0;32m   6929\u001b[0m \u001b[1;33m\u001b[0m\u001b[0m\n\u001b[0;32m   6930\u001b[0m     \u001b[1;32mdef\u001b[0m \u001b[0mapplymap\u001b[0m\u001b[1;33m(\u001b[0m\u001b[0mself\u001b[0m\u001b[1;33m,\u001b[0m \u001b[0mfunc\u001b[0m\u001b[1;33m)\u001b[0m\u001b[1;33m:\u001b[0m\u001b[1;33m\u001b[0m\u001b[1;33m\u001b[0m\u001b[0m\n",
      "\u001b[1;32m~\\Anaconda3\\lib\\site-packages\\pandas\\core\\apply.py\u001b[0m in \u001b[0;36mget_result\u001b[1;34m(self)\u001b[0m\n\u001b[0;32m    184\u001b[0m             \u001b[1;32mreturn\u001b[0m \u001b[0mself\u001b[0m\u001b[1;33m.\u001b[0m\u001b[0mapply_raw\u001b[0m\u001b[1;33m(\u001b[0m\u001b[1;33m)\u001b[0m\u001b[1;33m\u001b[0m\u001b[1;33m\u001b[0m\u001b[0m\n\u001b[0;32m    185\u001b[0m \u001b[1;33m\u001b[0m\u001b[0m\n\u001b[1;32m--> 186\u001b[1;33m         \u001b[1;32mreturn\u001b[0m \u001b[0mself\u001b[0m\u001b[1;33m.\u001b[0m\u001b[0mapply_standard\u001b[0m\u001b[1;33m(\u001b[0m\u001b[1;33m)\u001b[0m\u001b[1;33m\u001b[0m\u001b[1;33m\u001b[0m\u001b[0m\n\u001b[0m\u001b[0;32m    187\u001b[0m \u001b[1;33m\u001b[0m\u001b[0m\n\u001b[0;32m    188\u001b[0m     \u001b[1;32mdef\u001b[0m \u001b[0mapply_empty_result\u001b[0m\u001b[1;33m(\u001b[0m\u001b[0mself\u001b[0m\u001b[1;33m)\u001b[0m\u001b[1;33m:\u001b[0m\u001b[1;33m\u001b[0m\u001b[1;33m\u001b[0m\u001b[0m\n",
      "\u001b[1;32m~\\Anaconda3\\lib\\site-packages\\pandas\\core\\apply.py\u001b[0m in \u001b[0;36mapply_standard\u001b[1;34m(self)\u001b[0m\n\u001b[0;32m    290\u001b[0m \u001b[1;33m\u001b[0m\u001b[0m\n\u001b[0;32m    291\u001b[0m         \u001b[1;31m# compute the result using the series generator\u001b[0m\u001b[1;33m\u001b[0m\u001b[1;33m\u001b[0m\u001b[1;33m\u001b[0m\u001b[0m\n\u001b[1;32m--> 292\u001b[1;33m         \u001b[0mself\u001b[0m\u001b[1;33m.\u001b[0m\u001b[0mapply_series_generator\u001b[0m\u001b[1;33m(\u001b[0m\u001b[1;33m)\u001b[0m\u001b[1;33m\u001b[0m\u001b[1;33m\u001b[0m\u001b[0m\n\u001b[0m\u001b[0;32m    293\u001b[0m \u001b[1;33m\u001b[0m\u001b[0m\n\u001b[0;32m    294\u001b[0m         \u001b[1;31m# wrap results\u001b[0m\u001b[1;33m\u001b[0m\u001b[1;33m\u001b[0m\u001b[1;33m\u001b[0m\u001b[0m\n",
      "\u001b[1;32m~\\Anaconda3\\lib\\site-packages\\pandas\\core\\apply.py\u001b[0m in \u001b[0;36mapply_series_generator\u001b[1;34m(self)\u001b[0m\n\u001b[0;32m    319\u001b[0m             \u001b[1;32mtry\u001b[0m\u001b[1;33m:\u001b[0m\u001b[1;33m\u001b[0m\u001b[1;33m\u001b[0m\u001b[0m\n\u001b[0;32m    320\u001b[0m                 \u001b[1;32mfor\u001b[0m \u001b[0mi\u001b[0m\u001b[1;33m,\u001b[0m \u001b[0mv\u001b[0m \u001b[1;32min\u001b[0m \u001b[0menumerate\u001b[0m\u001b[1;33m(\u001b[0m\u001b[0mseries_gen\u001b[0m\u001b[1;33m)\u001b[0m\u001b[1;33m:\u001b[0m\u001b[1;33m\u001b[0m\u001b[1;33m\u001b[0m\u001b[0m\n\u001b[1;32m--> 321\u001b[1;33m                     \u001b[0mresults\u001b[0m\u001b[1;33m[\u001b[0m\u001b[0mi\u001b[0m\u001b[1;33m]\u001b[0m \u001b[1;33m=\u001b[0m \u001b[0mself\u001b[0m\u001b[1;33m.\u001b[0m\u001b[0mf\u001b[0m\u001b[1;33m(\u001b[0m\u001b[0mv\u001b[0m\u001b[1;33m)\u001b[0m\u001b[1;33m\u001b[0m\u001b[1;33m\u001b[0m\u001b[0m\n\u001b[0m\u001b[0;32m    322\u001b[0m                     \u001b[0mkeys\u001b[0m\u001b[1;33m.\u001b[0m\u001b[0mappend\u001b[0m\u001b[1;33m(\u001b[0m\u001b[0mv\u001b[0m\u001b[1;33m.\u001b[0m\u001b[0mname\u001b[0m\u001b[1;33m)\u001b[0m\u001b[1;33m\u001b[0m\u001b[1;33m\u001b[0m\u001b[0m\n\u001b[0;32m    323\u001b[0m             \u001b[1;32mexcept\u001b[0m \u001b[0mException\u001b[0m \u001b[1;32mas\u001b[0m \u001b[0me\u001b[0m\u001b[1;33m:\u001b[0m\u001b[1;33m\u001b[0m\u001b[1;33m\u001b[0m\u001b[0m\n",
      "\u001b[1;32m<ipython-input-195-f737d4b1248e>\u001b[0m in \u001b[0;36mget_city_name\u001b[1;34m(row)\u001b[0m\n\u001b[0;32m      4\u001b[0m \u001b[1;31m# Function to get the city name from latitude and longitude\u001b[0m\u001b[1;33m\u001b[0m\u001b[1;33m\u001b[0m\u001b[1;33m\u001b[0m\u001b[0m\n\u001b[0;32m      5\u001b[0m \u001b[1;32mdef\u001b[0m \u001b[0mget_city_name\u001b[0m\u001b[1;33m(\u001b[0m\u001b[0mrow\u001b[0m\u001b[1;33m)\u001b[0m\u001b[1;33m:\u001b[0m\u001b[1;33m\u001b[0m\u001b[1;33m\u001b[0m\u001b[0m\n\u001b[1;32m----> 6\u001b[1;33m     \u001b[0mlocation\u001b[0m \u001b[1;33m=\u001b[0m \u001b[0mgeolocator\u001b[0m\u001b[1;33m.\u001b[0m\u001b[0mreverse\u001b[0m\u001b[1;33m(\u001b[0m\u001b[1;33m(\u001b[0m\u001b[0mrow\u001b[0m\u001b[1;33m[\u001b[0m\u001b[1;34m'Latitude'\u001b[0m\u001b[1;33m]\u001b[0m\u001b[1;33m,\u001b[0m \u001b[0mrow\u001b[0m\u001b[1;33m[\u001b[0m\u001b[1;34m'Longitude'\u001b[0m\u001b[1;33m]\u001b[0m\u001b[1;33m)\u001b[0m\u001b[1;33m,\u001b[0m \u001b[0mexactly_one\u001b[0m\u001b[1;33m=\u001b[0m\u001b[1;32mTrue\u001b[0m\u001b[1;33m)\u001b[0m\u001b[1;33m\u001b[0m\u001b[1;33m\u001b[0m\u001b[0m\n\u001b[0m\u001b[0;32m      7\u001b[0m     \u001b[1;32mif\u001b[0m \u001b[0mlocation\u001b[0m\u001b[1;33m:\u001b[0m\u001b[1;33m\u001b[0m\u001b[1;33m\u001b[0m\u001b[0m\n\u001b[0;32m      8\u001b[0m         \u001b[1;32mreturn\u001b[0m \u001b[0mlocation\u001b[0m\u001b[1;33m.\u001b[0m\u001b[0mraw\u001b[0m\u001b[1;33m[\u001b[0m\u001b[1;34m'address'\u001b[0m\u001b[1;33m]\u001b[0m\u001b[1;33m.\u001b[0m\u001b[0mget\u001b[0m\u001b[1;33m(\u001b[0m\u001b[1;34m'city'\u001b[0m\u001b[1;33m,\u001b[0m \u001b[1;34m''\u001b[0m\u001b[1;33m)\u001b[0m\u001b[1;33m\u001b[0m\u001b[1;33m\u001b[0m\u001b[0m\n",
      "\u001b[1;32m~\\Anaconda3\\lib\\site-packages\\geopy\\geocoders\\nominatim.py\u001b[0m in \u001b[0;36mreverse\u001b[1;34m(self, query, exactly_one, timeout, language, addressdetails, zoom, namedetails)\u001b[0m\n\u001b[0;32m    350\u001b[0m             \u001b[0mlat\u001b[0m\u001b[1;33m,\u001b[0m \u001b[0mlon\u001b[0m \u001b[1;33m=\u001b[0m \u001b[0mself\u001b[0m\u001b[1;33m.\u001b[0m\u001b[0m_coerce_point_to_string\u001b[0m\u001b[1;33m(\u001b[0m\u001b[0mquery\u001b[0m\u001b[1;33m)\u001b[0m\u001b[1;33m.\u001b[0m\u001b[0msplit\u001b[0m\u001b[1;33m(\u001b[0m\u001b[1;34m','\u001b[0m\u001b[1;33m)\u001b[0m\u001b[1;33m\u001b[0m\u001b[1;33m\u001b[0m\u001b[0m\n\u001b[0;32m    351\u001b[0m         \u001b[1;32mexcept\u001b[0m \u001b[0mValueError\u001b[0m\u001b[1;33m:\u001b[0m\u001b[1;33m\u001b[0m\u001b[1;33m\u001b[0m\u001b[0m\n\u001b[1;32m--> 352\u001b[1;33m             \u001b[1;32mraise\u001b[0m \u001b[0mValueError\u001b[0m\u001b[1;33m(\u001b[0m\u001b[1;34m\"Must be a coordinate pair or Point\"\u001b[0m\u001b[1;33m)\u001b[0m\u001b[1;33m\u001b[0m\u001b[1;33m\u001b[0m\u001b[0m\n\u001b[0m\u001b[0;32m    353\u001b[0m         params = {\n\u001b[0;32m    354\u001b[0m             \u001b[1;34m'lat'\u001b[0m\u001b[1;33m:\u001b[0m \u001b[0mlat\u001b[0m\u001b[1;33m,\u001b[0m\u001b[1;33m\u001b[0m\u001b[1;33m\u001b[0m\u001b[0m\n",
      "\u001b[1;31mValueError\u001b[0m: ('Must be a coordinate pair or Point', 'occurred at index 0')"
     ]
    }
   ],
   "source": [
    "# Create the geolocator object\n",
    "geolocator = Nominatim(user_agent=\"city_lookup\")\n",
    "\n",
    "# Function to get the city name from latitude and longitude\n",
    "def get_city_name(row):\n",
    "    location = geolocator.reverse((row['Latitude'], row['Longitude']), exactly_one=True)\n",
    "    if location:\n",
    "        return location.raw['address'].get('city', '')\n",
    "    else:\n",
    "        return None\n",
    "\n",
    "# Apply the function to the DataFrame to create a new column 'city_by_location'\n",
    "data['city_by_location'] = data.apply(get_city_name, axis=1)"
   ]
  },
  {
   "cell_type": "code",
   "execution_count": null,
   "metadata": {},
   "outputs": [],
   "source": []
  },
  {
   "cell_type": "markdown",
   "metadata": {},
   "source": [
    "# Observing the Type of Facility feature"
   ]
  },
  {
   "cell_type": "code",
   "execution_count": 309,
   "metadata": {},
   "outputs": [
    {
     "data": {
      "text/plain": [
       "array(['Shared Kitchen User (Long Term)', 'School', 'Restaurant',\n",
       "       'Catering', \"Children's Services Facility\", 'Bakery', 'Liquor',\n",
       "       'PRIVATE SCHOOL', 'Hospital', 'Grocery Store',\n",
       "       'Daycare Above and Under 2 Years', 'Mobile Prepared Food Vendor',\n",
       "       'Daycare (2 - 6 Years)', 'Hair Salon', 'Long Term Care',\n",
       "       'Shared Kitchen', 'CHARTER SCHOOL', 'Mobile Food Preparer',\n",
       "       'Golden Diner', 'Pop-Up Establishment Host-Tier II',\n",
       "       'Daycare (Under 2 Years)', 'Mobile Food Dispenser', 'TAVERN',\n",
       "       'FROZEN DESSERT PUSHCARTS', 'CHARTER SCHOOL CAFETERIA', 'SCHOOL',\n",
       "       nan, 'Wholesale', 'Daycare Combo 1586', 'FRENCH MARKET SPACE',\n",
       "       'Special Event', 'Mobile Frozen Desserts Vendor', 'STADIUM',\n",
       "       'ASSISTED LIVING', 'RESTAURANT/GROCERY STORE', 'Banquet/kitchen',\n",
       "       'DAYCARE', 'CONVENIENCE', 'Shared Kitchen User (Short Term)',\n",
       "       'DISTRIBUTION CENTER', 'BREWPUB', 'Banquet', 'THEATRE', 'Rest/GYM',\n",
       "       'THEATER', 'BREWERY', 'BANQUET HALL', 'UNIVERSITY CAFETERIA',\n",
       "       'Shelter', 'Mobile Frozen Dessert Dispenser_non  Motorized.',\n",
       "       'NIGHT CLUB', 'convenience store', 'CHURCH/AFTER SCHOOL PROGRAM',\n",
       "       'Navy Pier Kiosk', 'RIVERWALK CAFE', 'ICE CREAM PARLOR', 'KIOSK',\n",
       "       'CANDY/GELATO', 'CHILDRENS SERVICES FACILITY', 'Other',\n",
       "       'CHURCH KITCHEN', 'WAREHOUSE', 'HOTEL',\n",
       "       'GROCERY STORE/GAS STATION', 'ICE CREAM SHOP',\n",
       "       'GROCERY STORE/COOKING SCHOOL', 'PUBLIC SHCOOL', 'Daycare Night',\n",
       "       'MOBILE FOOD', 'BANQUET', 'MUSIC VENUE', 'AFTER SCHOOL PROGRAM',\n",
       "       'CHURCH/SPECIAL EVENTS', 'ROOFTOPS', 'ADULT DAYCARE',\n",
       "       'RETAIL SALES', 'NUTRITION..SMOOTHIES/SHAKES',\n",
       "       'TAVERN/PACKAGED GOODS', 'GAS STATION', 'NURSING HOME',\n",
       "       'Pop-Up Establishment Host-Tier III',\n",
       "       'A-Not-For-Profit Chef Training Program', 'COFFEE AND/OR DRINKS',\n",
       "       'COMMISSARY', 'DAY CARE 2-14', 'COOKING SCHOOL', 'GAS/MINI MART',\n",
       "       'EVENT SPACE', 'MOVIE THEATER', 'Grocery & Restaurant',\n",
       "       'GYM STORE', 'banquets', 'NEWSSTAND', 'Grocery(Sushi prep)',\n",
       "       \"1023-CHILDREN'S SERVICES FACILITY\", 'TEACHING SCHOOL',\n",
       "       'LIVE POULTRY', 'RESTAURANT/BAR', 'CAFETERIA', 'SUSHI COUNTER',\n",
       "       'GAS STATION/MINI MART', 'HOT DOG STATION', 'RETAIL FOOD',\n",
       "       \"1023 CHILDERN'S SERVICES FACILITY\", 'FOOD PANTRY',\n",
       "       'OUTREACH CULINARY KITCHEN', 'PALETERIA', 'Day Care Facility',\n",
       "       'REGULATED BUSINESS', 'CATERING/BANQUET', 'private school',\n",
       "       'CHURCH', 'LIQUOR STORE', 'EVENT CENTER', 'GROCERY/TAQUERIA',\n",
       "       'GROCERY/RESTAURANT', 'SUPPORTIVE LIVING',\n",
       "       'Pop-Up Food Establishment User-Tier II', 'STORE', 'COFFEE KIOSK',\n",
       "       'GROCERY/BAKERY', 'Assisted Living Senior Care', 'donut shop',\n",
       "       'Banquet Hall', 'Pop-Up Food Establishment User-Tier I',\n",
       "       'coffee shop', 'BAR', 'CHARTER', 'CONVENIENCE STORE',\n",
       "       'HIGH SCHOOL KITCHEN', 'COMMISARY', 'ROOF TOP',\n",
       "       'BANQUET HALL/CATERING', 'SENIOR DAY CARE', 'ROOFTOP',\n",
       "       'MOBIL FOOD PREPARED', 'ARCHDIOCESE', 'ROOF TOPS',\n",
       "       'MOBILE PUSH CART', 'CONVENIENT STORE', 'CAFE/STORE',\n",
       "       'DINING HALL', 'Coffee shop', 'CATERING/CAFE',\n",
       "       'GAS STATION/GROCERY', 'CULINARY SCHOOL',\n",
       "       'DISTILLERY WITH TASTING ROOM', 'LIVE POULTRY SLAUGHTER FACILITY',\n",
       "       'LOUNGE/BANQUET HALL', 'ICE CREAM', 'WRIGLEY ROOFTOP',\n",
       "       'FITNESS CENTER', 'POULTRY SLAUGHTER', 'NUTRITION SHAKES',\n",
       "       'CUSTOM POULTRY SLAUGHTER', 'LIQUOR/COFFEE KIOSK', 'gas station',\n",
       "       'FLEA MARKET', \"CHILDERN'S SERVICE FACILITY\",\n",
       "       'GROCERY & LIQUOR STORE', 'TEST KITCHEN/ STORAGE', 'hair salon',\n",
       "       'SPA', 'RIVERWALK', 'tavern', 'GROCERY/DELI', 'DRUG STORE/GROCERY',\n",
       "       'GAS STATION/RESTAURANT', 'BUTCHER SHOP',\n",
       "       'DOLLAR STORE WITH GROCERY', 'Live Poultry', 'KITCHEN',\n",
       "       'PRIVATE EVENT SPACE', 'LIQUOR/GROCERY STORE/BAR', 'REHAB CENTER',\n",
       "       'PRIVATE CLUB', 'GAS STATION/FOOD', 'CONVENIENCE/GAS STATION',\n",
       "       'HERBALIFE', 'grocery/dollar store', 'cooking school',\n",
       "       'convenience/drug store', 'GROCERY/DRUG STORE', 'UNUSED STORAGE',\n",
       "       'PACKAGED HEALTH FOODS', 'liquor store', 'DRUG STORE', 'MILK TEA',\n",
       "       'HAIR SALON', 'HOSTEL', 'DAYCARE 2 YRS TO 12 YRS', 'HERBAL DRINKS',\n",
       "       'MFD TRUCK', 'HERBALIFE/ZUMBA', 'Private School',\n",
       "       \"1023 CHILDREN'S SERVICES FACILITY\",\n",
       "       'GAS STATION/CONVENIENCE STORE', 'VENDING COMMISSARY',\n",
       "       '15 monts to 5 years old', 'Airport Lounge', 'GYM',\n",
       "       'EXERCISE AND NUTRITION BAR', 'GROCERY STORE', 'FOOD BOOTH',\n",
       "       'youth housing', 'CATERED LIQUOR', 'HERBAL LIFE', '1475 LIQUOR',\n",
       "       'SLAUGHTER HOUSE/ GROCERY', 'Poultry Slaughter',\n",
       "       'MOBILE DESSERTS VENDOR', 'Food Pantry', 'HELICOPTER TERMINAL',\n",
       "       'DOLLAR STORE', 'CANDY SHOP', 'COFFEE SHOP', 'EVENT VENU',\n",
       "       'TOBACCO STORE', 'GROCERY(GAS STATION)', 'GAS STATION/STORE',\n",
       "       'Animal Shelter Cafe Permit', 'FITNESS STUDIO',\n",
       "       'NOT-FOR-PROFIT CLUB', 'CHARITY AID KITCHEN', 'Laundromat',\n",
       "       'CLOTHING STORE', 'Shuffleboard Club with Bar', 'SHAKES/TEAS',\n",
       "       'Church', 'Internet Cafe', 'HERBALIFE STORE', 'RETAIL',\n",
       "       'Assisted Living', 'PASTRY school', 'JUICE BAR',\n",
       "       'PREP INSIDE SCHOOL', 'COLD/FROZEN FOOD STORAGE',\n",
       "       'GROCERY& RESTAURANT', 'POPCORN CORN', 'FURNITURE STORE',\n",
       "       'CANDY STORE', 'COLLEGE', 'HERBAL LIFE SHOP', 'HEALTH CARE STORE',\n",
       "       'MOVIE THEATRE', 'BANQUET ROOM', 'SUMMER FEEDING PREP AREA',\n",
       "       'GROCERY/GAS STATION', 'COFFEE  SHOP',\n",
       "       'RETAIL STORE OFFERS COOKING CLASSES', 'LIQOUR BREWERY TASTING',\n",
       "       'GROCERY STORE/BAKERY', 'CHURCH/SPECIAL EVENT', 'Gift Shop',\n",
       "       'CHURCH (SPECIAL EVENTS)', 'Herbalife Nutrition', 'Herabalife',\n",
       "       'school cafeteria', 'WHOLESALE & RETAIL',\n",
       "       'RESTAURANT.BANQUET HALLS', 'Banquet Dining',\n",
       "       'GROCERY AND BUTCHER', 'Cafeteria', 'Lounge', 'PRE PACKAGED',\n",
       "       'Restaurant(protein shake bar)', 'WEIGHT LOSS PROGRAM',\n",
       "       'MOBILPREPARED FOOD VENDOR', 'butcher shop', 'KITCHEN DEMO',\n",
       "       'RESTAURANT/BAR/THEATER', 'BEVERAGE/SILVERWARE WAREHOUSE',\n",
       "       'Wrigley Roof Top', 'DOLLAR & GROCERY STORE', 'MOBILE FOOD TRUCK',\n",
       "       'HERBAL MEDICINE', 'PREPACAKAGED FOODS', 'cafeteria',\n",
       "       'REST/GROCERY', 'Banquet rooms', 'VENDING MACHINE', 'smoothie bar',\n",
       "       'ART GALLERY', 'PUSH CARTS', 'TAP room/tavern/liquor store',\n",
       "       'NORTHERLY ISLAND', 'SOCIAL CLUB', 'COFFEE ROASTER',\n",
       "       'BANQUET FACILITY', 'DISTRIBUTOR', 'Museum/Gallery',\n",
       "       'HERBAL REMEDY', 'meat packing', 'CELL PHONE STORE', 'bar',\n",
       "       'SERVICE BAR/THEATRE', 'JUICE AND SALAD BAR',\n",
       "       'GROCERY STORE / GAS STATION', 'URBAN FARM',\n",
       "       'GAS STATION/STORE GROCERY', 'RETAIL FOOD/GAS STATION',\n",
       "       'convenience', 'GAS STATION STORE', 'DAYCARE COMBO', 'grocery',\n",
       "       'employee kitchen', 'DRUG/FOOD STORE', 'DAYCARE 6 WKS-5YRS',\n",
       "       'MASSAGE BAR', 'COFFEE CART', 'weight loss program', 'HERBAL',\n",
       "       'Long-Term Care', 'BAKERY/DELI', 'CHINESE HERBS',\n",
       "       'Long Term Care Facility', 'SMOKEHOUSE', 'REST/ROOFTOP',\n",
       "       'fish market', 'dollar store', 'GROCERY', 'GOLF COURSE',\n",
       "       'CITY OF CHICAGO COLLEGE', 'Tavern', 'RESTAURANT/HOSPITAL', '1023',\n",
       "       'DAY CARE 1023', 'GELATO SHOP', 'GROCERY/SERVICE GAS STATION',\n",
       "       'PACKAGED LIQUOR', 'GROCERY/LIQUOR STORE',\n",
       "       'ART GALLERY W/WINE AND BEER', 'GAS STATION/ GROCERY STORE',\n",
       "       'BOWLING LANES/BANQUETS', 'VFW HALL', 'GROCERY STORE/ RESTAURANT',\n",
       "       'NUTRITION/HERBALIFE', 'RESTAURANT/BAKERY', 'TRUCK',\n",
       "       'CULINARY ARTS SCHOOL', 'HERBALCAL', 'COFFEE/TEA',\n",
       "       'PROTEIN SHAKE BAR', 'WINE STORE', 'night club', 'BAKERY/GROCERY',\n",
       "       'day spa', 'MOBILE FROZEN DESSERT VENDOR', 'RESTAURANT/GROCERY',\n",
       "       'snack shop', 'fitness center', 'WINE TASTING BAR',\n",
       "       \"CHILDERN'S SERVICES  FACILITY\", 'Commissary', 'REPACKAGING PLANT',\n",
       "       \"1023 CHILDERN'S SERVICE S FACILITY\",\n",
       "       'COMMISSARY FOR SOFT SERVE ICE CREAM TRUCKS',\n",
       "       'GAS STATION /GROCERY', 'Adult Family Care Center', 'DAY CARE',\n",
       "       'theater', 'THEATER/BAR', 'PACKAGED FOOD DISTRIBUTION',\n",
       "       'RESTUARANT AND BAR', 'Deli', 'MOBILE FROZEN DESSERTS VENDOR',\n",
       "       'GROCERY STORE/TAQUERIA', 'CAR WASH', 'banquet hall',\n",
       "       'Food Vending Machines', 'CAFE', 'Illegal Vendor',\n",
       "       'TEMPORARY KIOSK', 'CHICAGO PARK DISTRICT', 'CONVNIENCE STORE',\n",
       "       'TAVERN-LIQUOR', 'HOT DOG CART', 'Gas station',\n",
       "       'TAVERN/RESTAURANT', 'Tavern/Bar', 'ROOM SERVICE',\n",
       "       'SERVICE GAS STATION', 'BOYS AND GIRLS CLUB', 'HERBAL STORE',\n",
       "       'CHARTER SCHOOL/CAFETERIA', 'warehouse',\n",
       "       'Mobile Frozen Dessert Disp/Non-motorized',\n",
       "       'MOBILE FROZEN DESSERTS DISPENSER-NON-MOTORIZED',\n",
       "       'LIQUORE STORE/BAR', 'Daycare (2 Years)', 'LAUNDROMAT',\n",
       "       'BEFORE AND AFTER SCHOOL PROGRAM', 'Church Kitchen',\n",
       "       'banquets/room service', 'FROZEN DESSERTS DISPENSER-NON-MOTORIZED',\n",
       "       'PHARMACY', 'DAYCARE 2-6, UNDER 6', 'Long-Term Care Facility',\n",
       "       'blockbuster video',\n",
       "       'MOBILE FROZEN DESSERTS DISPENSER-NON- MOTORIZED', 'TEA STORE',\n",
       "       'NON-FOR PROFIT BASEMENT KIT',\n",
       "       'FROZEN DESSERTS DISPENSER -NON MOTORIZED', 'SUMMER FEEDING',\n",
       "       'CHURCH/DAY CARE', 'GROCERY STORE/DELI', 'POPCORN SHOP',\n",
       "       'School Cafeteria', 'NAIL SHOP',\n",
       "       'MOBILE FROZEN DESSERTS DISPENSER-NON-MOTOR', 'GROCERY/CAFE',\n",
       "       'CATERED EVENTS', 'drug treatment facility', 'RETAIL STORE',\n",
       "       'NOT FOR PROFIT', 'BAR/GRILL', 'after school program',\n",
       "       'NON -PROFIT', 'SHARED KITCHEN USER (LONG TREM)',\n",
       "       'CHILDERN ACTIVITY FACILITY', 'video store', 'TENT RSTAURANT',\n",
       "       'Ice cream', 'ASSISSTED LIVING', 'grocery/butcher',\n",
       "       'RESTAURANT/LIQUOR', 'grocery & restaurant', 'NP-KIOSK',\n",
       "       'LIQUOR CONSUMPTION ON PREMISES.', 'GOLF COURSE CONNCESSION STAND',\n",
       "       'MOBIL FOOD 1315', 'MEXICAN CANDY STORE', 'watermelon house',\n",
       "       'FOOD PANTRY/CHURCH', 'GROCERY/ RESTAURANT', '1005 NURSING HOME',\n",
       "       'BAKERY/ RESTAURANT', 'Social Club', '(convenience store)',\n",
       "       'Nutrition Store', '1584-DAY CARE ABOVE 2 YEARS',\n",
       "       'Convenience Store', 'newsstand', 'unlicensed facility', 'coffee',\n",
       "       'HEALTH CENTER', 'bakery/restaurant', 'Dollar store',\n",
       "       'DAYCARE 1586', 'GENERAL STORE', 'ROOFTOP PATIO', '(gas station)',\n",
       "       'Pool', 'PEDDLER', 'KIDS CAFE', 'HOOKA BAR', 'live butcher',\n",
       "       'PALETERIA /ICECREAM SHOP',\n",
       "       'PREPACKAGE MEAL DISTRIBUTOR (1006 Retail)', 'AFTER SCHOOL CARE',\n",
       "       \"FARMER'S MARKET\", 'GAS STATION /SUBWAY MINI MART.',\n",
       "       'LINITED BUSINESS', 'PANTRY', 'PRODUCE STAND', 'MAIN KITCHEN',\n",
       "       'COFFEE VENDING MACHINE', 'COMMIASARY', 'tavern/restaurant',\n",
       "       'Candy', 'DRUG STORE/W/ FOOD', 'GROCERY/LIQUOR', 'PRODUCE VENDOR',\n",
       "       'SOUP KITCHEN', 'UNLICENSED FACILITY', 'CANDY MAKER',\n",
       "       'TAVERN/LIQUOR', 'religious', 'candy/gelato', 'hooka lounge',\n",
       "       'Catering and Wholesale', 'WHOLESALE BAKERY', \"Kids Cafe'\"],\n",
       "      dtype=object)"
      ]
     },
     "execution_count": 309,
     "metadata": {},
     "output_type": "execute_result"
    }
   ],
   "source": [
    "data['Facility Type'].unique()"
   ]
  },
  {
   "cell_type": "code",
   "execution_count": 310,
   "metadata": {},
   "outputs": [
    {
     "data": {
      "text/plain": [
       "482"
      ]
     },
     "execution_count": 310,
     "metadata": {},
     "output_type": "execute_result"
    }
   ],
   "source": [
    "data['Facility Type'].nunique()"
   ]
  },
  {
   "cell_type": "code",
   "execution_count": 311,
   "metadata": {},
   "outputs": [
    {
     "data": {
      "text/plain": [
       "Restaurant                         120100\n",
       "Grocery Store                       23336\n",
       "School                              14275\n",
       "Children's Services Facility         4159\n",
       "Daycare Above and Under 2 Years      2773\n",
       "                                    ...  \n",
       "ART GALLERY                             1\n",
       "PEDDLER                                 1\n",
       "drug treatment facility                 1\n",
       "DOLLAR STORE WITH GROCERY               1\n",
       "EXERCISE AND NUTRITION BAR              1\n",
       "Name: Facility Type, Length: 482, dtype: int64"
      ]
     },
     "execution_count": 311,
     "metadata": {},
     "output_type": "execute_result"
    }
   ],
   "source": [
    "Facility_counts = data['Facility Type'].value_counts().sort_values(ascending = False)\n",
    "Facility_counts"
   ]
  },
  {
   "cell_type": "code",
   "execution_count": 312,
   "metadata": {},
   "outputs": [
    {
     "data": {
      "text/plain": [
       "Facility Type\n",
       "(convenience store)                    0.000000\n",
       "(gas station)                         50.000000\n",
       "1005 NURSING HOME                     50.000000\n",
       "1023                                  23.076923\n",
       "1023 CHILDERN'S SERVICE S FACILITY    33.333333\n",
       "                                        ...    \n",
       "video store                            0.000000\n",
       "warehouse                             50.000000\n",
       "watermelon house                      50.000000\n",
       "weight loss program                    0.000000\n",
       "youth housing                          0.000000\n",
       "Length: 482, dtype: float64"
      ]
     },
     "execution_count": 312,
     "metadata": {},
     "output_type": "execute_result"
    }
   ],
   "source": [
    "fail_percentage_by_facility = data.groupby('Facility Type')['Fail'].sum() / data.groupby('Facility Type').size() *100\n",
    "fail_percentage_by_facility"
   ]
  },
  {
   "cell_type": "code",
   "execution_count": 313,
   "metadata": {},
   "outputs": [
    {
     "data": {
      "image/png": "[encoded data removed]",
      "text/plain": [
       "<Figure size 1080x432 with 2 Axes>"
      ]
     },
     "metadata": {},
     "output_type": "display_data"
    }
   ],
   "source": [
    "Failure_by_facility = pd.DataFrame({'Facility Type': fail_percentage_by_facility.index, 'Failure': fail_percentage_by_facility.values, 'Num_Inspections': Facility_counts.values})\n",
    "Failure_by_facility = Failure_by_facility.sort_values(by='Facility Type')\n",
    "\n",
    "# Set up the figure and the first y-axis (fail percentage)\n",
    "fig, ax1 = plt.subplots(figsize=(15, 6))\n",
    "ax1 = sns.barplot(x='Facility Type', y='Failure', data=Failure_by_facility, ax=ax1, color='steelblue')\n",
    "ax1.set_ylabel('Fail Percentage', color='steelblue')\n",
    "ax1.tick_params(axis='y', labelcolor='steelblue')\n",
    "\n",
    "# Create the second y-axis (number of inspections) and plot the bar graph\n",
    "ax2 = ax1.twinx()\n",
    "ax2 = sns.barplot(x='Facility Type', y='Num_Inspections', data=Failure_by_facility, ax=ax2, color='lightcoral')\n",
    "ax2.set_ylabel('Number of Inspections', color='lightcoral')\n",
    "ax2.tick_params(axis='y', labelcolor='lightcoral')\n",
    "\n",
    "plt.title('Fail Percentage and Number of Inspections by Facility')\n",
    "plt.xlabel('Facility')\n",
    "plt.xticks(rotation=90)\n",
    "plt.show()"
   ]
  },
  {
   "cell_type": "code",
   "execution_count": 314,
   "metadata": {},
   "outputs": [
    {
     "data": {
      "text/html": [
       "<div>\n",
       "<style scoped>\n",
       "    .dataframe tbody tr th:only-of-type {\n",
       "        vertical-align: middle;\n",
       "    }\n",
       "\n",
       "    .dataframe tbody tr th {\n",
       "        vertical-align: top;\n",
       "    }\n",
       "\n",
       "    .dataframe thead th {\n",
       "        text-align: right;\n",
       "    }\n",
       "</style>\n",
       "<table border=\"1\" class=\"dataframe\">\n",
       "  <thead>\n",
       "    <tr style=\"text-align: right;\">\n",
       "      <th></th>\n",
       "      <th>Facility Type</th>\n",
       "      <th>Fail</th>\n",
       "    </tr>\n",
       "  </thead>\n",
       "  <tbody>\n",
       "    <tr>\n",
       "      <th>371</th>\n",
       "      <td>Restaurant</td>\n",
       "      <td>32339.0</td>\n",
       "    </tr>\n",
       "    <tr>\n",
       "      <th>208</th>\n",
       "      <td>Grocery Store</td>\n",
       "      <td>7451.0</td>\n",
       "    </tr>\n",
       "    <tr>\n",
       "      <th>390</th>\n",
       "      <td>School</td>\n",
       "      <td>3454.0</td>\n",
       "    </tr>\n",
       "    <tr>\n",
       "      <th>108</th>\n",
       "      <td>Children's Services Facility</td>\n",
       "      <td>913.0</td>\n",
       "    </tr>\n",
       "    <tr>\n",
       "      <th>42</th>\n",
       "      <td>Bakery</td>\n",
       "      <td>798.0</td>\n",
       "    </tr>\n",
       "    <tr>\n",
       "      <th>138</th>\n",
       "      <td>Daycare Above and Under 2 Years</td>\n",
       "      <td>637.0</td>\n",
       "    </tr>\n",
       "    <tr>\n",
       "      <th>135</th>\n",
       "      <td>Daycare (2 - 6 Years)</td>\n",
       "      <td>587.0</td>\n",
       "    </tr>\n",
       "    <tr>\n",
       "      <th>262</th>\n",
       "      <td>Long Term Care</td>\n",
       "      <td>430.0</td>\n",
       "    </tr>\n",
       "    <tr>\n",
       "      <th>260</th>\n",
       "      <td>Liquor</td>\n",
       "      <td>368.0</td>\n",
       "    </tr>\n",
       "    <tr>\n",
       "      <th>287</th>\n",
       "      <td>Mobile Food Dispenser</td>\n",
       "      <td>262.0</td>\n",
       "    </tr>\n",
       "    <tr>\n",
       "      <th>106</th>\n",
       "      <td>Catering</td>\n",
       "      <td>246.0</td>\n",
       "    </tr>\n",
       "    <tr>\n",
       "      <th>288</th>\n",
       "      <td>Mobile Food Preparer</td>\n",
       "      <td>236.0</td>\n",
       "    </tr>\n",
       "    <tr>\n",
       "      <th>431</th>\n",
       "      <td>Wholesale</td>\n",
       "      <td>186.0</td>\n",
       "    </tr>\n",
       "    <tr>\n",
       "      <th>139</th>\n",
       "      <td>Daycare Combo 1586</td>\n",
       "      <td>151.0</td>\n",
       "    </tr>\n",
       "    <tr>\n",
       "      <th>206</th>\n",
       "      <td>Golden Diner</td>\n",
       "      <td>130.0</td>\n",
       "    </tr>\n",
       "    <tr>\n",
       "      <th>400</th>\n",
       "      <td>TAVERN</td>\n",
       "      <td>125.0</td>\n",
       "    </tr>\n",
       "    <tr>\n",
       "      <th>234</th>\n",
       "      <td>Hospital</td>\n",
       "      <td>115.0</td>\n",
       "    </tr>\n",
       "    <tr>\n",
       "      <th>137</th>\n",
       "      <td>Daycare (Under 2 Years)</td>\n",
       "      <td>66.0</td>\n",
       "    </tr>\n",
       "    <tr>\n",
       "      <th>161</th>\n",
       "      <td>GAS STATION</td>\n",
       "      <td>56.0</td>\n",
       "    </tr>\n",
       "    <tr>\n",
       "      <th>398</th>\n",
       "      <td>Special Event</td>\n",
       "      <td>43.0</td>\n",
       "    </tr>\n",
       "    <tr>\n",
       "      <th>30</th>\n",
       "      <td>BANQUET HALL</td>\n",
       "      <td>37.0</td>\n",
       "    </tr>\n",
       "    <tr>\n",
       "      <th>392</th>\n",
       "      <td>Shared Kitchen</td>\n",
       "      <td>35.0</td>\n",
       "    </tr>\n",
       "    <tr>\n",
       "      <th>256</th>\n",
       "      <td>LIVE POULTRY</td>\n",
       "      <td>29.0</td>\n",
       "    </tr>\n",
       "    <tr>\n",
       "      <th>63</th>\n",
       "      <td>CHARTER SCHOOL</td>\n",
       "      <td>28.0</td>\n",
       "    </tr>\n",
       "    <tr>\n",
       "      <th>292</th>\n",
       "      <td>Mobile Prepared Food Vendor</td>\n",
       "      <td>24.0</td>\n",
       "    </tr>\n",
       "    <tr>\n",
       "      <th>244</th>\n",
       "      <td>KIOSK</td>\n",
       "      <td>23.0</td>\n",
       "    </tr>\n",
       "    <tr>\n",
       "      <th>395</th>\n",
       "      <td>Shelter</td>\n",
       "      <td>18.0</td>\n",
       "    </tr>\n",
       "    <tr>\n",
       "      <th>28</th>\n",
       "      <td>BANQUET</td>\n",
       "      <td>15.0</td>\n",
       "    </tr>\n",
       "    <tr>\n",
       "      <th>384</th>\n",
       "      <td>STADIUM</td>\n",
       "      <td>13.0</td>\n",
       "    </tr>\n",
       "    <tr>\n",
       "      <th>349</th>\n",
       "      <td>RESTAURANT/BAR</td>\n",
       "      <td>12.0</td>\n",
       "    </tr>\n",
       "    <tr>\n",
       "      <th>352</th>\n",
       "      <td>RESTAURANT/GROCERY STORE</td>\n",
       "      <td>12.0</td>\n",
       "    </tr>\n",
       "    <tr>\n",
       "      <th>385</th>\n",
       "      <td>STORE</td>\n",
       "      <td>12.0</td>\n",
       "    </tr>\n",
       "    <tr>\n",
       "      <th>187</th>\n",
       "      <td>GROCERY STORE/GAS STATION</td>\n",
       "      <td>12.0</td>\n",
       "    </tr>\n",
       "    <tr>\n",
       "      <th>199</th>\n",
       "      <td>GROCERY/RESTAURANT</td>\n",
       "      <td>11.0</td>\n",
       "    </tr>\n",
       "  </tbody>\n",
       "</table>\n",
       "</div>"
      ],
      "text/plain": [
       "                       Facility Type     Fail\n",
       "371                       Restaurant  32339.0\n",
       "208                    Grocery Store   7451.0\n",
       "390                           School   3454.0\n",
       "108     Children's Services Facility    913.0\n",
       "42                            Bakery    798.0\n",
       "138  Daycare Above and Under 2 Years    637.0\n",
       "135            Daycare (2 - 6 Years)    587.0\n",
       "262                   Long Term Care    430.0\n",
       "260                           Liquor    368.0\n",
       "287            Mobile Food Dispenser    262.0\n",
       "106                         Catering    246.0\n",
       "288             Mobile Food Preparer    236.0\n",
       "431                        Wholesale    186.0\n",
       "139               Daycare Combo 1586    151.0\n",
       "206                     Golden Diner    130.0\n",
       "400                           TAVERN    125.0\n",
       "234                         Hospital    115.0\n",
       "137          Daycare (Under 2 Years)     66.0\n",
       "161                      GAS STATION     56.0\n",
       "398                    Special Event     43.0\n",
       "30                      BANQUET HALL     37.0\n",
       "392                   Shared Kitchen     35.0\n",
       "256                     LIVE POULTRY     29.0\n",
       "63                    CHARTER SCHOOL     28.0\n",
       "292      Mobile Prepared Food Vendor     24.0\n",
       "244                            KIOSK     23.0\n",
       "395                          Shelter     18.0\n",
       "28                           BANQUET     15.0\n",
       "384                          STADIUM     13.0\n",
       "349                   RESTAURANT/BAR     12.0\n",
       "352         RESTAURANT/GROCERY STORE     12.0\n",
       "385                            STORE     12.0\n",
       "187        GROCERY STORE/GAS STATION     12.0\n",
       "199               GROCERY/RESTAURANT     11.0"
      ]
     },
     "execution_count": 314,
     "metadata": {},
     "output_type": "execute_result"
    }
   ],
   "source": [
    "facility_fail_count = data.groupby('Facility Type')['Fail'].sum().reset_index()\n",
    "facility_fail_count = facility_fail_count[facility_fail_count['Fail'] > 10].sort_values(by='Fail', ascending=False)\n",
    "facility_fail_count"
   ]
  },
  {
   "cell_type": "code",
   "execution_count": 315,
   "metadata": {},
   "outputs": [
    {
     "data": {
      "text/plain": [
       "Facility Type\n",
       "religious                                     100.000000\n",
       "NUTRITION/HERBALIFE                           100.000000\n",
       "NOT FOR PROFIT                                100.000000\n",
       "Mobile Frozen Dessert Disp/Non-motorized      100.000000\n",
       "MOBILE FROZEN DESSERTS VENDOR                 100.000000\n",
       "                                                 ...    \n",
       "COMMISSARY FOR SOFT SERVE ICE CREAM TRUCKS     55.555556\n",
       "WINE STORE                                     54.545455\n",
       "GROCERY AND BUTCHER                            54.545455\n",
       "BAR                                            52.941176\n",
       "THEATER                                        52.631579\n",
       "Length: 70, dtype: float64"
      ]
     },
     "execution_count": 315,
     "metadata": {},
     "output_type": "execute_result"
    }
   ],
   "source": [
    "# show the facilities with highest violation rate\n",
    "facilities_with_highest_failures =  fail_percentage_by_facility[fail_percentage_by_facility > 50].sort_values(ascending=False)\n",
    "facilities_with_highest_failures"
   ]
  },
  {
   "cell_type": "code",
   "execution_count": 316,
   "metadata": {},
   "outputs": [
    {
     "data": {
      "text/plain": [
       "Restaurant                         65.892706\n",
       "Grocery Store                      12.803266\n",
       "School                              7.831960\n",
       "Children's Services Facility        2.281830\n",
       "Daycare Above and Under 2 Years     1.521403\n",
       "                                     ...    \n",
       "COFFEE ROASTER                      0.000549\n",
       "CAR WASH                            0.000549\n",
       "TAVERN-LIQUOR                       0.000549\n",
       "MAIN KITCHEN                        0.000549\n",
       "EXERCISE AND NUTRITION BAR          0.000549\n",
       "Name: Facility Type, Length: 482, dtype: float64"
      ]
     },
     "execution_count": 316,
     "metadata": {},
     "output_type": "execute_result"
    }
   ],
   "source": [
    "facility_weight = Facility_counts / len(data['Facility Type']) *100\n",
    "facility_weight.sort_values(ascending =False)"
   ]
  },
  {
   "cell_type": "code",
   "execution_count": 317,
   "metadata": {},
   "outputs": [],
   "source": [
    "#TODO from Facility Type the only the ones should be taken as dummy variables for which the weight > 5%"
   ]
  },
  {
   "cell_type": "code",
   "execution_count": 318,
   "metadata": {},
   "outputs": [
    {
     "name": "stdout",
     "output_type": "stream",
     "text": [
      "26.926727726894256\n"
     ]
    }
   ],
   "source": [
    "fail_rate_restaurant = data[data['Facility Type'] == 'Restaurant']['Fail'].sum() / data[data['Facility Type'] == 'Restaurant'].shape[0] * 100\n",
    "print(fail_rate_restaurant)"
   ]
  },
  {
   "cell_type": "code",
   "execution_count": 319,
   "metadata": {},
   "outputs": [
    {
     "name": "stdout",
     "output_type": "stream",
     "text": [
      "31.92920809050394\n"
     ]
    }
   ],
   "source": [
    "fail_rate_grocery = data[data['Facility Type'] == 'Grocery Store']['Fail'].sum() / data[data['Facility Type'] == 'Grocery Store'].shape[0] * 100\n",
    "print(fail_rate_grocery)"
   ]
  },
  {
   "cell_type": "code",
   "execution_count": null,
   "metadata": {},
   "outputs": [],
   "source": []
  },
  {
   "cell_type": "code",
   "execution_count": 320,
   "metadata": {},
   "outputs": [
    {
     "name": "stdout",
     "output_type": "stream",
     "text": [
      "                          Facility Type    Failure  Weight_Inspections\n",
      "0                   (convenience store)   0.000000           65.892706\n",
      "1                         (gas station)  50.000000           12.803266\n",
      "2                     1005 NURSING HOME  50.000000            7.831960\n",
      "3                                  1023  23.076923            2.281830\n",
      "4    1023 CHILDERN'S SERVICE S FACILITY  33.333333            1.521403\n",
      "..                                  ...        ...                 ...\n",
      "477                         video store   0.000000            0.000549\n",
      "478                           warehouse  50.000000            0.000549\n",
      "479                    watermelon house  50.000000            0.000549\n",
      "480                 weight loss program   0.000000            0.000549\n",
      "481                       youth housing   0.000000            0.000549\n",
      "\n",
      "[482 rows x 3 columns]\n"
     ]
    }
   ],
   "source": [
    "#Facility failure with high inspection weight\n",
    "inspections_with_high_failure_facility = pd.DataFrame({'Facility Type': fail_percentage_by_facility.index, \n",
    "                                                      'Failure': fail_percentage_by_facility.values, \n",
    "                                                      'Weight_Inspections': facility_weight.values})\n",
    "print(inspections_with_high_failure_facility)"
   ]
  },
  {
   "cell_type": "code",
   "execution_count": null,
   "metadata": {},
   "outputs": [],
   "source": [
    "\n"
   ]
  },
  {
   "cell_type": "markdown",
   "metadata": {},
   "source": [
    "# Observing the Risk feature"
   ]
  },
  {
   "cell_type": "code",
   "execution_count": 321,
   "metadata": {},
   "outputs": [
    {
     "data": {
      "text/plain": [
       "array(['Risk 1 (High)', 'Risk 2 (Medium)', 'Risk 3 (Low)', nan, 'All'],\n",
       "      dtype=object)"
      ]
     },
     "execution_count": 321,
     "metadata": {},
     "output_type": "execute_result"
    }
   ],
   "source": [
    "data['Risk'].unique()"
   ]
  },
  {
   "cell_type": "code",
   "execution_count": 322,
   "metadata": {},
   "outputs": [
    {
     "data": {
      "text/plain": [
       "4"
      ]
     },
     "execution_count": 322,
     "metadata": {},
     "output_type": "execute_result"
    }
   ],
   "source": [
    "data['Risk'].nunique()"
   ]
  },
  {
   "cell_type": "code",
   "execution_count": 323,
   "metadata": {},
   "outputs": [
    {
     "data": {
      "text/plain": [
       "Risk 1 (High)      135111\n",
       "Risk 2 (Medium)     33707\n",
       "Risk 3 (Low)        13408\n",
       "All                     5\n",
       "Name: Risk, dtype: int64"
      ]
     },
     "execution_count": 323,
     "metadata": {},
     "output_type": "execute_result"
    }
   ],
   "source": [
    "Risk_counts = data['Risk'].value_counts().sort_values(ascending = False)\n",
    "Risk_counts"
   ]
  },
  {
   "cell_type": "code",
   "execution_count": 324,
   "metadata": {},
   "outputs": [],
   "source": [
    "#TODO Keep only Risk categories with High Medum and Low"
   ]
  },
  {
   "cell_type": "code",
   "execution_count": 325,
   "metadata": {},
   "outputs": [
    {
     "data": {
      "text/plain": [
       "Risk\n",
       "All                100.000000\n",
       "Risk 1 (High)       26.686946\n",
       "Risk 2 (Medium)     27.691577\n",
       "Risk 3 (Low)        33.942422\n",
       "dtype: float64"
      ]
     },
     "execution_count": 325,
     "metadata": {},
     "output_type": "execute_result"
    }
   ],
   "source": [
    "fail_percentage_by_risk = (data.groupby('Risk')['Fail'].sum() / data.groupby('Risk').size()) * 100\n",
    "fail_percentage_by_risk"
   ]
  },
  {
   "cell_type": "code",
   "execution_count": 326,
   "metadata": {},
   "outputs": [
    {
     "data": {
      "image/png": "[encoded data removed]",
      "text/plain": [
       "<Figure size 1440x432 with 1 Axes>"
      ]
     },
     "metadata": {
      "needs_background": "light"
     },
     "output_type": "display_data"
    }
   ],
   "source": [
    "\n",
    "Failure_by_risk = pd.DataFrame({'Risk': fail_percentage_by_risk.index, 'Failure': fail_percentage_by_risk})\n",
    "\n",
    "plt.figure(figsize=(20, 6))\n",
    "sns.barplot(x='Risk', y='Failure', data=Failure_by_risk)\n",
    "\n",
    "plt.title('Fail Percentage by Risk')\n",
    "plt.xlabel('Risk')\n",
    "plt.ylabel('Fail Percentage')\n",
    "plt.xticks(rotation=90)\n",
    "plt.show()"
   ]
  },
  {
   "cell_type": "code",
   "execution_count": null,
   "metadata": {},
   "outputs": [],
   "source": []
  },
  {
   "cell_type": "markdown",
   "metadata": {},
   "source": [
    "# Observing the Inspection Type feature"
   ]
  },
  {
   "cell_type": "code",
   "execution_count": 214,
   "metadata": {},
   "outputs": [
    {
     "data": {
      "text/plain": [
       "array(['Canvass', 'License', 'Canvass Re-Inspection',\n",
       "       'License Re-Inspection', 'Short Form Complaint',\n",
       "       'Complaint Re-Inspection', 'Complaint', 'Recent Inspection',\n",
       "       'Suspected Food Poisoning',\n",
       "       'Suspected Food Poisoning Re-inspection', 'Consultation',\n",
       "       'Task Force Liquor 1475', 'Complaint-Fire', 'NO ENTRY',\n",
       "       'License-Task Force', 'Tag Removal', 'Out of Business', 'No Entry',\n",
       "       'out ofbusiness', 'OUT OF BUSINESS', 'Non-Inspection',\n",
       "       'Special Events (Festivals)', 'Recent inspection', nan,\n",
       "       'Complaint-Fire Re-inspection', 'Short Form Fire-Complaint',\n",
       "       'OWNER SUSPENDED OPERATION/LICENSE', 'LICENSE CONSULTATION',\n",
       "       'Illegal Operation', 'License consultation', 'fire complaint',\n",
       "       'Not Ready', 'Package Liquor 1474', 'No entry',\n",
       "       'CANVASS SPECIAL EVENTS', 'TWO PEOPLE ATE AND GOT SICK.',\n",
       "       'CANVASS SCHOOL/SPECIAL EVENT', 'Pre-License Consultation',\n",
       "       'no entry', 'FIRE/COMPLAIN', '1315 license reinspection',\n",
       "       'TASK FORCE LIQUOR 1470', 'license task 1474', 'ADDENDUM',\n",
       "       'Task Force for liquor 1474',\n",
       "       'LICENSE TASK FORCE / NOT -FOR-PROFIT CLU',\n",
       "       'Task force liquor inspection 1474', 'Task Force Liquor Catering',\n",
       "       'SFP/COMPLAINT', 'CANVAS', 'SFP/Complaint', 'expansion',\n",
       "       'TASK FORCE NIGHT', 'TAVERN 1470', 'SFP RECENTLY INSPECTED',\n",
       "       'LICENSE RENEWAL INSPECTION FOR DAYCARE', 'SMOKING COMPLAINT',\n",
       "       'SFP', 'LICENSE/NOT READY', 'LICENSE RENEWAL FOR DAYCARE',\n",
       "       'LICENSE TASK FORCE / NOT -FOR-PROFIT CLUB', 'TASKFORCE',\n",
       "       'CANVASS RE INSPECTION OF CLOSE UP', 'KIDS CAFE',\n",
       "       'LICENSE DAYCARE 1586', 'NO ENTRY-SHORT COMPLAINT)', 'CITF',\n",
       "       'task force(1470) liquor tavern', 'error save', 'TASTE OF CHICAGO',\n",
       "       'LIQUOR CATERING', 'Summer Feeding', 'citation re-issued',\n",
       "       'DAY CARE LICENSE RENEWAL', 'LICENSE', 'LICENSE REQUEST',\n",
       "       'sfp/complaint', 'HACCP QUESTIONAIRE', 'CHANGED COURT DATE',\n",
       "       'CANVASS/SPECIAL EVENT', 'Duplicated', 'license',\n",
       "       'RECALL INSPECTION', 'LICENSE WRONG ADDRESS',\n",
       "       'finish complaint inspection from 5-18-10',\n",
       "       'TASK FORCE PACKAGE LIQUOR', 'CLOSE-UP/COMPLAINT REINSPECTION',\n",
       "       'TASK FORCE LIQUOR 1474', 'CANVASS FOR RIB FEST',\n",
       "       'REINSPECTION OF 48 HOUR NOTICE', 'TASK FORCE LIQUOR (1481)',\n",
       "       'LIQOUR TASK FORCE NOT READY', 'SPECIAL TASK FORCE', 'task force',\n",
       "       'REINSPECTION', 'POSSIBLE FBI', 'TASK FORCE NOT READY',\n",
       "       'Business Not Located', 'RE-INSPECTION OF CLOSE-UP', \"Kids Cafe'\",\n",
       "       'TASK FORCE PACKAGE GOODS 1474'], dtype=object)"
      ]
     },
     "execution_count": 214,
     "metadata": {},
     "output_type": "execute_result"
    }
   ],
   "source": [
    "data['Inspection Type'].unique()"
   ]
  },
  {
   "cell_type": "code",
   "execution_count": 215,
   "metadata": {},
   "outputs": [
    {
     "data": {
      "text/plain": [
       "100"
      ]
     },
     "execution_count": 215,
     "metadata": {},
     "output_type": "execute_result"
    }
   ],
   "source": [
    "data['Inspection Type'].nunique()"
   ]
  },
  {
   "cell_type": "markdown",
   "metadata": {},
   "source": [
    "canvass, the most\n",
    "common type of inspection performed at a frequency relative to the risk of the\n",
    "establishment; consultation, when the inspection is done at the request of the owner\n",
    "prior to the opening of the establishment; complaint, when the inspection is done in\n",
    "response to a complaint against the establishment; license, when the inspection is done\n",
    "as a requirement for the establishment to receive its license to operate; suspect food\n",
    "poisoning, when the inspection is done in response to one or more persons claiming to\n",
    "have gotten ill as a result of eating at the establishment (a specific type of complaint based inspection); task-force inspection, when an inspection of a bar or tavern is done.\n",
    "Re-inspections can occur for most types of these inspections and are indicated as such."
   ]
  },
  {
   "cell_type": "code",
   "execution_count": 216,
   "metadata": {},
   "outputs": [
    {
     "data": {
      "text/plain": [
       "array(['Canvass', 'License', 'Canvass Re-Inspection',\n",
       "       'License Re-Inspection', 'Short Form Complaint',\n",
       "       'Complaint Re-Inspection', 'Complaint', 'Suspected Food Poisoning',\n",
       "       'Suspected Food Poisoning Re-inspection', 'Consultation',\n",
       "       'Task Force Liquor 1475', 'Complaint-Fire', 'License-Task Force',\n",
       "       'Complaint-Fire Re-inspection', 'Short Form Fire-Complaint',\n",
       "       'OWNER SUSPENDED OPERATION/LICENSE', 'LICENSE CONSULTATION',\n",
       "       'License consultation', 'fire complaint', 'CANVASS SPECIAL EVENTS',\n",
       "       'CANVASS SCHOOL/SPECIAL EVENT', 'Pre-License Consultation',\n",
       "       '1315 license reinspection', 'TASK FORCE LIQUOR 1470',\n",
       "       'license task 1474', 'Task Force for liquor 1474',\n",
       "       'LICENSE TASK FORCE / NOT -FOR-PROFIT CLU',\n",
       "       'Task force liquor inspection 1474', 'Task Force Liquor Catering',\n",
       "       'SFP/COMPLAINT', 'SFP/Complaint', 'TASK FORCE NIGHT',\n",
       "       'LICENSE RENEWAL INSPECTION FOR DAYCARE', 'SMOKING COMPLAINT',\n",
       "       'LICENSE/NOT READY', 'LICENSE RENEWAL FOR DAYCARE',\n",
       "       'LICENSE TASK FORCE / NOT -FOR-PROFIT CLUB', 'TASKFORCE',\n",
       "       'CANVASS RE INSPECTION OF CLOSE UP', 'LICENSE DAYCARE 1586',\n",
       "       'NO ENTRY-SHORT COMPLAINT)', 'task force(1470) liquor tavern',\n",
       "       'DAY CARE LICENSE RENEWAL', 'LICENSE', 'LICENSE REQUEST',\n",
       "       'sfp/complaint', 'CANVASS/SPECIAL EVENT', 'license',\n",
       "       'LICENSE WRONG ADDRESS',\n",
       "       'finish complaint inspection from 5-18-10',\n",
       "       'TASK FORCE PACKAGE LIQUOR', 'CLOSE-UP/COMPLAINT REINSPECTION',\n",
       "       'TASK FORCE LIQUOR 1474', 'CANVASS FOR RIB FEST',\n",
       "       'TASK FORCE LIQUOR (1481)', 'LIQOUR TASK FORCE NOT READY',\n",
       "       'SPECIAL TASK FORCE', 'task force', 'TASK FORCE NOT READY',\n",
       "       'TASK FORCE PACKAGE GOODS 1474'], dtype=object)"
      ]
     },
     "execution_count": 216,
     "metadata": {},
     "output_type": "execute_result"
    }
   ],
   "source": [
    "inspection_data = data[data['Inspection Type'].str.contains('Suspect|Task|Canvass|Consultation|Complaint|License', \n",
    "                                                            case=False, na=False)]\n",
    "\n",
    "inspection_data['Inspection Type'].unique()"
   ]
  },
  {
   "cell_type": "code",
   "execution_count": 217,
   "metadata": {},
   "outputs": [
    {
     "data": {
      "text/plain": [
       "60"
      ]
     },
     "execution_count": 217,
     "metadata": {},
     "output_type": "execute_result"
    }
   ],
   "source": [
    "inspection_data['Inspection Type'].nunique()"
   ]
  },
  {
   "cell_type": "code",
   "execution_count": 290,
   "metadata": {},
   "outputs": [
    {
     "data": {
      "text/plain": [
       "0"
      ]
     },
     "execution_count": 290,
     "metadata": {},
     "output_type": "execute_result"
    }
   ],
   "source": [
    "data['Inspection Type'].isna().sum()"
   ]
  },
  {
   "cell_type": "code",
   "execution_count": 289,
   "metadata": {},
   "outputs": [],
   "source": [
    "data = data.drop(data[data['Inspection Type'].isna()].index)"
   ]
  },
  {
   "cell_type": "code",
   "execution_count": 218,
   "metadata": {},
   "outputs": [],
   "source": [
    "#done: make a column which will give general categories to the inspection type, ex.all items containing different writings of \n",
    "#canvass will be substitiued by Canvas\n",
    "#TODO should the reinspections be not considered ?"
   ]
  },
  {
   "cell_type": "code",
   "execution_count": 293,
   "metadata": {},
   "outputs": [],
   "source": [
    "data['Inspection_Canvass'] = data['Inspection Type'].str.contains('Canvass', case=False, na=False)\n",
    "data['Inspection_Suspect'] = data['Inspection Type'].str.contains('Suspect', case=False, na=False)\n",
    "data['Inspection_Task'] = data['Inspection Type'].str.contains('Task', case=False, na=False)\n",
    "data['Inspection_Consultation'] = data['Inspection Type'].str.contains('Consultation', case=False, na=False)\n",
    "data['Inspection_Complaint'] = data['Inspection Type'].str.contains('Complaint', case=False, na=False)\n",
    "data['Inspection_License'] = data['Inspection Type'].str.contains('License', case=False, na=False)"
   ]
  },
  {
   "cell_type": "code",
   "execution_count": 291,
   "metadata": {},
   "outputs": [],
   "source": [
    "data['Inspection_other'] = ~data['Inspection Type'].str.contains('Canvass|Suspect|Task|Consultation|Complaint|License', case=False, na=False)"
   ]
  },
  {
   "cell_type": "code",
   "execution_count": 294,
   "metadata": {},
   "outputs": [
    {
     "data": {
      "text/html": [
       "<div>\n",
       "<style scoped>\n",
       "    .dataframe tbody tr th:only-of-type {\n",
       "        vertical-align: middle;\n",
       "    }\n",
       "\n",
       "    .dataframe tbody tr th {\n",
       "        vertical-align: top;\n",
       "    }\n",
       "\n",
       "    .dataframe thead th {\n",
       "        text-align: right;\n",
       "    }\n",
       "</style>\n",
       "<table border=\"1\" class=\"dataframe\">\n",
       "  <thead>\n",
       "    <tr style=\"text-align: right;\">\n",
       "      <th></th>\n",
       "      <th>Inspection ID</th>\n",
       "      <th>DBA Name</th>\n",
       "      <th>AKA Name</th>\n",
       "      <th>License #</th>\n",
       "      <th>Facility Type</th>\n",
       "      <th>Risk</th>\n",
       "      <th>Address</th>\n",
       "      <th>City</th>\n",
       "      <th>State</th>\n",
       "      <th>Zip</th>\n",
       "      <th>...</th>\n",
       "      <th>Longitude</th>\n",
       "      <th>Location</th>\n",
       "      <th>Fail</th>\n",
       "      <th>Inspection_other</th>\n",
       "      <th>Inspection_Canvass</th>\n",
       "      <th>Inspection_Suspect</th>\n",
       "      <th>Inspection_Task</th>\n",
       "      <th>Inspection_Consultation</th>\n",
       "      <th>Inspection_Complaint</th>\n",
       "      <th>Inspection_License</th>\n",
       "    </tr>\n",
       "  </thead>\n",
       "  <tbody>\n",
       "    <tr>\n",
       "      <th>0</th>\n",
       "      <td>2571281</td>\n",
       "      <td>AFC SUSHI @ JEWEL OSCO #3349</td>\n",
       "      <td>AFC SUSHI @ JEWEL OSCO #3349</td>\n",
       "      <td>2841387.0</td>\n",
       "      <td>Shared Kitchen User (Long Term)</td>\n",
       "      <td>Risk 1 (High)</td>\n",
       "      <td>16915 N HAAS AVE</td>\n",
       "      <td>TORRANCE</td>\n",
       "      <td>CA</td>\n",
       "      <td>90504.0</td>\n",
       "      <td>...</td>\n",
       "      <td>NaN</td>\n",
       "      <td>NaN</td>\n",
       "      <td>0</td>\n",
       "      <td>False</td>\n",
       "      <td>True</td>\n",
       "      <td>False</td>\n",
       "      <td>False</td>\n",
       "      <td>False</td>\n",
       "      <td>False</td>\n",
       "      <td>False</td>\n",
       "    </tr>\n",
       "    <tr>\n",
       "      <th>1</th>\n",
       "      <td>2569647</td>\n",
       "      <td>Sauganash Elementary School</td>\n",
       "      <td>Sauganash Elementary School</td>\n",
       "      <td>25211.0</td>\n",
       "      <td>School</td>\n",
       "      <td>Risk 1 (High)</td>\n",
       "      <td>6040 N Kilpatrick (4700W) AVE</td>\n",
       "      <td>CHICAGO</td>\n",
       "      <td>IL</td>\n",
       "      <td>60646.0</td>\n",
       "      <td>...</td>\n",
       "      <td>NaN</td>\n",
       "      <td>NaN</td>\n",
       "      <td>0</td>\n",
       "      <td>False</td>\n",
       "      <td>True</td>\n",
       "      <td>False</td>\n",
       "      <td>False</td>\n",
       "      <td>False</td>\n",
       "      <td>False</td>\n",
       "      <td>False</td>\n",
       "    </tr>\n",
       "    <tr>\n",
       "      <th>3</th>\n",
       "      <td>2568003</td>\n",
       "      <td>HOT DOG EXPRESS</td>\n",
       "      <td>HOT DOG EXPRESS (T2  E5)</td>\n",
       "      <td>1909525.0</td>\n",
       "      <td>Restaurant</td>\n",
       "      <td>Risk 2 (Medium)</td>\n",
       "      <td>11601 W TOUHY AVE</td>\n",
       "      <td>CHICAGO</td>\n",
       "      <td>IL</td>\n",
       "      <td>60666.0</td>\n",
       "      <td>...</td>\n",
       "      <td>-87.914428</td>\n",
       "      <td>(42.008536400868735, -87.91442843927047)</td>\n",
       "      <td>0</td>\n",
       "      <td>False</td>\n",
       "      <td>True</td>\n",
       "      <td>False</td>\n",
       "      <td>False</td>\n",
       "      <td>False</td>\n",
       "      <td>False</td>\n",
       "      <td>False</td>\n",
       "    </tr>\n",
       "    <tr>\n",
       "      <th>5</th>\n",
       "      <td>2567789</td>\n",
       "      <td>EL POLLO REAL</td>\n",
       "      <td>EL POLLO REAL</td>\n",
       "      <td>2232132.0</td>\n",
       "      <td>Restaurant</td>\n",
       "      <td>Risk 1 (High)</td>\n",
       "      <td>3835 W 31ST ST</td>\n",
       "      <td>CHICAGO</td>\n",
       "      <td>IL</td>\n",
       "      <td>60623.0</td>\n",
       "      <td>...</td>\n",
       "      <td>-87.720832</td>\n",
       "      <td>(41.836833676558776, -87.72083154727216)</td>\n",
       "      <td>0</td>\n",
       "      <td>False</td>\n",
       "      <td>True</td>\n",
       "      <td>False</td>\n",
       "      <td>False</td>\n",
       "      <td>False</td>\n",
       "      <td>False</td>\n",
       "      <td>False</td>\n",
       "    </tr>\n",
       "    <tr>\n",
       "      <th>6</th>\n",
       "      <td>2567065</td>\n",
       "      <td>PARK MANOR</td>\n",
       "      <td>PARK MANOR ELEMENTARY</td>\n",
       "      <td>24841.0</td>\n",
       "      <td>School</td>\n",
       "      <td>Risk 1 (High)</td>\n",
       "      <td>7037 S Rhodes (532E) AVE</td>\n",
       "      <td>CHICAGO</td>\n",
       "      <td>IL</td>\n",
       "      <td>60637.0</td>\n",
       "      <td>...</td>\n",
       "      <td>NaN</td>\n",
       "      <td>NaN</td>\n",
       "      <td>0</td>\n",
       "      <td>False</td>\n",
       "      <td>True</td>\n",
       "      <td>False</td>\n",
       "      <td>False</td>\n",
       "      <td>False</td>\n",
       "      <td>False</td>\n",
       "      <td>False</td>\n",
       "    </tr>\n",
       "  </tbody>\n",
       "</table>\n",
       "<p>5 rows × 24 columns</p>\n",
       "</div>"
      ],
      "text/plain": [
       "   Inspection ID                      DBA Name                      AKA Name  \\\n",
       "0        2571281  AFC SUSHI @ JEWEL OSCO #3349  AFC SUSHI @ JEWEL OSCO #3349   \n",
       "1        2569647   Sauganash Elementary School   Sauganash Elementary School   \n",
       "3        2568003               HOT DOG EXPRESS      HOT DOG EXPRESS (T2  E5)   \n",
       "5        2567789                 EL POLLO REAL                 EL POLLO REAL   \n",
       "6        2567065                    PARK MANOR         PARK MANOR ELEMENTARY   \n",
       "\n",
       "   License #                    Facility Type             Risk  \\\n",
       "0  2841387.0  Shared Kitchen User (Long Term)    Risk 1 (High)   \n",
       "1    25211.0                           School    Risk 1 (High)   \n",
       "3  1909525.0                       Restaurant  Risk 2 (Medium)   \n",
       "5  2232132.0                       Restaurant    Risk 1 (High)   \n",
       "6    24841.0                           School    Risk 1 (High)   \n",
       "\n",
       "                          Address      City State      Zip  ...  Longitude  \\\n",
       "0               16915 N HAAS AVE   TORRANCE    CA  90504.0  ...        NaN   \n",
       "1  6040 N Kilpatrick (4700W) AVE    CHICAGO    IL  60646.0  ...        NaN   \n",
       "3              11601 W TOUHY AVE    CHICAGO    IL  60666.0  ... -87.914428   \n",
       "5                 3835 W 31ST ST    CHICAGO    IL  60623.0  ... -87.720832   \n",
       "6       7037 S Rhodes (532E) AVE    CHICAGO    IL  60637.0  ...        NaN   \n",
       "\n",
       "                                   Location Fail  Inspection_other  \\\n",
       "0                                       NaN    0             False   \n",
       "1                                       NaN    0             False   \n",
       "3  (42.008536400868735, -87.91442843927047)    0             False   \n",
       "5  (41.836833676558776, -87.72083154727216)    0             False   \n",
       "6                                       NaN    0             False   \n",
       "\n",
       "   Inspection_Canvass Inspection_Suspect  Inspection_Task  \\\n",
       "0                True              False            False   \n",
       "1                True              False            False   \n",
       "3                True              False            False   \n",
       "5                True              False            False   \n",
       "6                True              False            False   \n",
       "\n",
       "   Inspection_Consultation  Inspection_Complaint  Inspection_License  \n",
       "0                    False                 False               False  \n",
       "1                    False                 False               False  \n",
       "3                    False                 False               False  \n",
       "5                    False                 False               False  \n",
       "6                    False                 False               False  \n",
       "\n",
       "[5 rows x 24 columns]"
      ]
     },
     "execution_count": 294,
     "metadata": {},
     "output_type": "execute_result"
    }
   ],
   "source": [
    "data.head()"
   ]
  },
  {
   "cell_type": "code",
   "execution_count": 306,
   "metadata": {},
   "outputs": [
    {
     "name": "stdout",
     "output_type": "stream",
     "text": [
      "Inspection_Canvass\n",
      "False          inf\n",
      "True     24.249933\n",
      "dtype: float64 Inspection_Suspect\n",
      "False          inf\n",
      "True     30.399061\n",
      "dtype: float64 Inspection_Task\n",
      "False          inf\n",
      "True     57.990868\n",
      "dtype: float64 Inspection_Consultation\n",
      "False          inf\n",
      "True     22.563177\n",
      "dtype: float64 Inspection_Complaint\n",
      "False          inf\n",
      "True     31.006185\n",
      "dtype: float64 Inspection_License\n",
      "False          inf\n",
      "True     33.222216\n",
      "dtype: float64 Inspection_other\n",
      "False          inf\n",
      "True     24.192212\n",
      "dtype: float64\n"
     ]
    }
   ],
   "source": [
    "fail_rate_per_canvas = data.groupby('Inspection_Canvass')['Fail'].sum() / data.groupby('Inspection_Canvass')['Inspection_Canvass'].sum() * 100\n",
    "fail_rate_per_suspect = data.groupby('Inspection_Suspect')['Fail'].sum() / data.groupby('Inspection_Suspect')['Inspection_Suspect'].sum() * 100\n",
    "fail_rate_per_Task = data.groupby('Inspection_Task')['Fail'].sum() / data.groupby('Inspection_Task')['Inspection_Task'].sum() * 100\n",
    "fail_rate_per_Consultation = data.groupby('Inspection_Consultation')['Fail'].sum() / data.groupby('Inspection_Consultation')['Inspection_Consultation'].sum() * 100\n",
    "fail_rate_per_complaint = data.groupby('Inspection_Complaint')['Fail'].sum() / data.groupby('Inspection_Complaint')['Inspection_Complaint'].sum() * 100\n",
    "fail_rate_per_license = data.groupby('Inspection_License')['Fail'].sum() / data.groupby('Inspection_License')['Inspection_License'].sum() * 100\n",
    "fail_rate_per_other = data.groupby('Inspection_other')['Fail'].sum() / data.groupby('Inspection_other')['Inspection_other'].sum() * 100\n",
    "\n",
    "print(fail_rate_per_canvas, fail_rate_per_suspect,fail_rate_per_Task,fail_rate_per_Consultation,fail_rate_per_complaint,fail_rate_per_license, fail_rate_per_other)\n",
    "\n"
   ]
  },
  {
   "cell_type": "code",
   "execution_count": null,
   "metadata": {},
   "outputs": [],
   "source": []
  },
  {
   "cell_type": "markdown",
   "metadata": {},
   "source": [
    "# Violations feature"
   ]
  },
  {
   "cell_type": "code",
   "execution_count": 245,
   "metadata": {},
   "outputs": [
    {
     "data": {
      "text/plain": [
       "0         160.0\n",
       "1           1.0\n",
       "3           0.0\n",
       "5           0.0\n",
       "6           0.0\n",
       "          ...  \n",
       "256784      0.0\n",
       "256785      0.0\n",
       "256786      0.0\n",
       "256787      0.0\n",
       "256788      0.0\n",
       "Name: Violation_NA_Count, Length: 182267, dtype: float64"
      ]
     },
     "execution_count": 245,
     "metadata": {},
     "output_type": "execute_result"
    }
   ],
   "source": [
    "data['Violation_NA_Count'] = data.groupby('License #')['Violations'].apply(lambda x: x.isna().sum())\n",
    "data['Violation_NA_Count'].fillna(0, inplace=True)\n",
    "data['Violation_NA_Count']"
   ]
  },
  {
   "cell_type": "code",
   "execution_count": 246,
   "metadata": {},
   "outputs": [],
   "source": [
    "data['Violation_NA_Percentage'] = (data['Violation_NA_Count'] / data.groupby('License #').size()) * 100"
   ]
  },
  {
   "cell_type": "code",
   "execution_count": 247,
   "metadata": {},
   "outputs": [
    {
     "data": {
      "text/plain": [
       "36571"
      ]
     },
     "execution_count": 247,
     "metadata": {},
     "output_type": "execute_result"
    }
   ],
   "source": [
    "data['License #'].nunique()"
   ]
  },
  {
   "cell_type": "code",
   "execution_count": 248,
   "metadata": {},
   "outputs": [
    {
     "data": {
      "text/plain": [
       "(1567, 21)"
      ]
     },
     "execution_count": 248,
     "metadata": {},
     "output_type": "execute_result"
    }
   ],
   "source": [
    "data[data['Violation_NA_Percentage'] > 0].shape"
   ]
  },
  {
   "cell_type": "code",
   "execution_count": 249,
   "metadata": {},
   "outputs": [],
   "source": [
    "#dropping the rows where violatons missing values have 10%+ weight\n",
    "data.drop(data[data['Violation_NA_Percentage'] > 0].index, axis=0, inplace=True)"
   ]
  },
  {
   "cell_type": "code",
   "execution_count": 250,
   "metadata": {},
   "outputs": [],
   "source": [
    "data.drop(['Violation_NA_Count', 'Violation_NA_Percentage'], axis=1, inplace=True)"
   ]
  },
  {
   "cell_type": "code",
   "execution_count": 251,
   "metadata": {},
   "outputs": [
    {
     "data": {
      "text/plain": [
       "3          8.0\n",
       "5          7.0\n",
       "6         17.0\n",
       "7          0.0\n",
       "8          0.0\n",
       "          ... \n",
       "256784    11.0\n",
       "256785    18.0\n",
       "256786    11.0\n",
       "256787     0.0\n",
       "256788     0.0\n",
       "Name: violations_count_per_license, Length: 180700, dtype: float64"
      ]
     },
     "execution_count": 251,
     "metadata": {},
     "output_type": "execute_result"
    }
   ],
   "source": [
    "# Calculate the count of violations per License #\n",
    "data['violations_count_per_license'] = data.groupby('License #')['Violations'].transform('count')\n",
    "data['violations_count_per_license'] "
   ]
  },
  {
   "cell_type": "code",
   "execution_count": 252,
   "metadata": {},
   "outputs": [
    {
     "data": {
      "text/plain": [
       "3         80.000000\n",
       "5         87.500000\n",
       "6         94.444444\n",
       "7          0.000000\n",
       "8          0.000000\n",
       "            ...    \n",
       "256784    73.333333\n",
       "256785    85.714286\n",
       "256786    91.666667\n",
       "256787     0.000000\n",
       "256788     0.000000\n",
       "Name: average_violations_per_establishment, Length: 180700, dtype: float64"
      ]
     },
     "execution_count": 252,
     "metadata": {},
     "output_type": "execute_result"
    }
   ],
   "source": [
    "# Calculate the average count of violations per establishment\n",
    "data['average_violations_per_establishment'] = data['violations_count_per_license'] / data.groupby('License #')['License #'].transform('count') * 100\n",
    "data['average_violations_per_establishment']"
   ]
  },
  {
   "cell_type": "code",
   "execution_count": 253,
   "metadata": {},
   "outputs": [
    {
     "data": {
      "text/plain": [
       "7"
      ]
     },
     "execution_count": 253,
     "metadata": {},
     "output_type": "execute_result"
    }
   ],
   "source": [
    "data['average_violations_per_establishment'].isna().sum()"
   ]
  },
  {
   "cell_type": "code",
   "execution_count": 299,
   "metadata": {},
   "outputs": [
    {
     "data": {
      "text/plain": [
       "0           0.000000\n",
       "1          21.052632\n",
       "3           0.000000\n",
       "5          12.500000\n",
       "6          33.333333\n",
       "             ...    \n",
       "256784     13.333333\n",
       "256785     52.380952\n",
       "256786      8.333333\n",
       "256787    100.000000\n",
       "256788      0.000000\n",
       "Name: fail_rate_per_establishment, Length: 182266, dtype: float64"
      ]
     },
     "execution_count": 299,
     "metadata": {},
     "output_type": "execute_result"
    }
   ],
   "source": [
    "data['fail_rate_per_establishment'] = data.groupby('License #')['Fail'].transform('sum') / data.groupby('License #')['License #'].transform('count') * 100\n",
    "data['fail_rate_per_establishment'] "
   ]
  },
  {
   "cell_type": "code",
   "execution_count": 255,
   "metadata": {},
   "outputs": [
    {
     "data": {
      "image/png": "[encoded data removed]",
      "text/plain": [
       "<Figure size 720x432 with 1 Axes>"
      ]
     },
     "metadata": {
      "needs_background": "light"
     },
     "output_type": "display_data"
    }
   ],
   "source": [
    "# Scatter plot\n",
    "plt.figure(figsize=(10, 6))\n",
    "sns.scatterplot(x='violations_count_per_license', y='fail_rate_per_establishment', data=data)\n",
    "\n",
    "plt.title('Scatter Plot of violations_count_per_license & fail rate')\n",
    "plt.xlabel('violations_count_per_license')\n",
    "plt.ylabel('fail_rate_per_establishment')\n",
    "plt.show()"
   ]
  },
  {
   "cell_type": "code",
   "execution_count": 256,
   "metadata": {},
   "outputs": [
    {
     "data": {
      "image/png": "[encoded data removed]",
      "text/plain": [
       "<Figure size 720x432 with 1 Axes>"
      ]
     },
     "metadata": {
      "needs_background": "light"
     },
     "output_type": "display_data"
    }
   ],
   "source": [
    "# Scatter plot\n",
    "plt.figure(figsize=(10, 6))\n",
    "sns.scatterplot(x='average_violations_per_establishment', y='fail_rate_per_establishment', data=data)\n",
    "\n",
    "plt.title('Scatter Plot of Average Violations per Establishment vs. fail_rate_per_establishment')\n",
    "plt.xlabel('Average Violations per Establishment')\n",
    "plt.ylabel('fail_rate_per_establishment')\n",
    "plt.show()"
   ]
  },
  {
   "cell_type": "code",
   "execution_count": 263,
   "metadata": {},
   "outputs": [
    {
     "data": {
      "text/plain": [
       "array([nan,\n",
       "       '5. PROCEDURES FOR RESPONDING TO VOMITING AND DIARRHEAL EVENTS - Comments: OBSERVED NO VOMIT/DIARRHEA CLEANUP KIT ON SITE AT TIME OF INSPECTION. INSTRUCTED MANAGEMENT TO PROVIDE. PRIORITY FOUNDATION 7-38-005. CITATION ISSUED. | 22. PROPER COLD HOLDING TEMPERATURES - Comments: FOUND COLD TCS FOODS AT IMPROPER COLD HOLDING TEMPERATURES INSIDE THE 2-DOOR PREP COOLER. PORK, BEEF, CHORIZO, MENUDO, CUT TOMATOES, AND EGGS FOUND AT TEMPERATURES RANGING FROM 50F TO 56F. INSTRUCTED TO DISCARD AND DENATURE SAID TCS FOODS AND ALWAYS MAINTAIN ALL COLD HOLDING TCS FOODS AT OR BELOW 41F. PRIORITY VIOLATION 7-38-005. CITATION ISSUED. | 23. PROPER DATE MARKING AND DISPOSITION - Comments: OBSERVED PREPARED TCS FOODS (RICE, SOUP, COOKED BEEF, AND COOKED YAMS) HELD FOR OVER 24 HOURS WITHOUT DISCARD DATES. INSTRUCTED FACILITY TO PROVIDE DISCARD DATES FOR ANY PREPARED TCS FOODS HELD FOR OVER 24 HOURS. PRIORITY FOUNDATION 7-38-005. CITATION ISSUED. FOOD DISCARDED. | 33. PROPER COOLING METHODS USED; ADEQUATE EQUIPMENT FOR TEMPERATURE CONTROL - Comments: EQUIPMENT NOT MAINTAINING PROPER TEMPERATURE. NOTED TEMPERATURE OF THE 2-DOOR PREP COOLER TO BE IMPROPER AT 56.0 F. INSTRUCTED MANAGEMENT TO REPAIR COOLER TO PROPER TEMPERATURE OF 41F AND BELOW, OR REPLACE. PRIORITY VIOLATION 7-38-005. CITATION ISSUED. | 36. THERMOMETERS PROVIDED & ACCURATE - Comments: OBSERVED NO METAL STEM PROBE THERMOMETER ON THE PREMISES CAPABLE OF TAKING HOT AND COLD FOOD TEMPERATURES. MANAGEMENT MUST PROVIDE A THERMOMETER TO TAKE HOT AND COLD FOOD TEMPERATURES. PRIORITY FOUNDATION 7-38-005. CITATION ISSUED. | 38. INSECTS, RODENTS, & ANIMALS NOT PRESENT - Comments: FOUND NO PEST CONTROL LOG BOOK ON SITE WITH UP TO DATE PEST CONTROL REPORTS AND ALL NECESSARY DOCUMENTS SUCH AS THE BUSINESS LICENSE, CHEMICALS USED, MAP, ETC. INSTRUCTED TO HAVE A PEST CONTROL LOG BOOK ON SITE AT ALL TIMES. PRIORITY FOUNDATION 7-38-020(C). CITATION ISSUED. | 38. INSECTS, RODENTS, & ANIMALS NOT PRESENT - Comments: NOTED OVER 15 LIVE ROACHS ON THE EDGE OF THE OVEN DOOR, ON THE FLOOR UNDERNEATH THE PREP COOLER, UNDERNEATH THE MICROWAVE, EMBEDDED INSIDE THE GLASS TOP CHEST FREEZER, AND ON THE WALL UNDERNEATH THE PREP HANDWASH SINK. INSTRUCTED MANAGEMENT TO REMOVE ALL ROACHES AND ACTIVITY, CLEAN/SANITIZE AFFECTED AREAS, AND CONTACT TO PEST CONTROL FOR SERVICE. PRIORITY FOUNDATION 7-38-020(A). CITATION ISSUED. | 38. INSECTS, RODENTS, & ANIMALS NOT PRESENT - Comments: NOTED OVER 20 DEAD ROACHES ON THE KITCHEN FLOOR NEAR COOKING EQUIPMENT AND NEAR THE FRONT COUNTER, ON THE BATHROOM FLOOR NEAR THE DOOR, AND ON THE COUNTER NEAR THE TWIZZLER CONTAINER. INSTRUCTED MANAGEMENT TO REMOVE ALL DEAD INSECTS. | 39. CONTAMINATION PREVENTED DURING FOOD PREPARATION, STORAGE & DISPLAY - Comments: FOUND UNPACKAGED AND UNCOVERED CHICHARRON AND CARNE SECA BEING DISPLAYED ON A TABLE WITH TONGS NEAR THE FRONT COUNTER IN THE CUSTOMER SEATING AREA, INTENDED FOR CONSUMER SELF SERVICE, NOT PROTECTED FROM CONTAMINATION. INSTRUCTED MANAGEMENT THAT ALL FOOD ON DISPLAY MUST BE PROTECTED FROM CONTAMINATION BY THE USE OF PACKAGING, DISPLAY CASES, OR OTHER EFFECTIVE MEANS. PRIORITY VIOLATION 7-38-005. CITATION ISSUED. FOOD DISCARDED. | 47. FOOD & NON-FOOD CONTACT SURFACES CLEANABLE, PROPERLY DESIGNED, CONSTRUCTED & USED - Comments: NOTED ONLY ONE DRAIN PLUG AT THE THREE COMPARTMENT SINK. INSTRUCTED MANAGEMENT TO PROVIDE DRAIN PLUGS FOR EACH COMPARTMENT. | 48. WAREWASHING FACILITIES: INSTALLED, MAINTAINED & USED; TEST STRIPS - Comments: FOUND NO CHEMICAL TEST KIT ON SITE FOR SANITIZER OR WAREWASHING AREA. INFORMED PERSON IN CHARGE A TEST KIT THAT ACCURATELY MEASURES THE CONCENTRATION IN MG/L OF SANITIZING SOLUTION MUST BE PROVIDED. PRIORITY FOUNDATION 7-38-005. CITATION ISSUED. | 49. NON-FOOD/FOOD CONTACT SURFACES CLEAN - Comments: INSTRUCTED TO DETAIL CLEAN THE INTERIOR OF ALL COOLERS, AND DEFROST AND REMOVE ICE FROM THE GLASS TOP CHEST FREEZER. | 51. PLUMBING INSTALLED; PROPER BACKFLOW DEVICES - Comments: FOUND THE PREP AREA HANDWASHING SINK TO BE SLOW DRAINING. INSTRUCTED TO REPAIR. | 51. PLUMBING INSTALLED; PROPER BACKFLOW DEVICES - Comments: FOUND NO MOP SINK ON SITE. INSTRUCTED MANAGEMENT THAT AT LEAST ONE SERVICE SINK (MOP SINK) OR CURBED CLEANING FACILITY EQUIPPED WITH A FLOOR DRAIN SHALL BE PROVIDED FOR THE CLEANING OF MOPS AND DISPOSAL OF MOP WATER/SIMILAR LIQUID. | 52. SEWAGE & WASTE WATER PROPERLY DISPOSED - Comments: NOTED NO GREASE TRAP INSTALLED AT THREE COMPARTMENT SINK. MUST PROVIDE. | 54. GARBAGE & REFUSE PROPERLY DISPOSED; FACILITIES MAINTAINED - Comments: NOTED NO OUTSIDE COMMERICAL DUMPSTER ON THE PREMISES AT TIME OF INSPECTION. INSTRUCTED MANAGEMENT THAT ALL RETAIL FOOD ESTABLISHMENTS SHALL HAVE AT LEAST ONE COMMERICAL DUMPSTER WITH COMMERCIAL REFUSE REMOVAL. PRIORITY FOUNDATION 7-38-020(B). CITATION ISSUED. | 55. PHYSICAL FACILITIES INSTALLED, MAINTAINED & CLEAN - Comments: OBSERVED EXCESSIVE CLUTTER AND UNNECESSARY ARTICLES (BROKEN EQUIPMENT, ETC.) STORED OUTSIDE NEAR THE EXIT DOOR. INSTRUCTED MANAGEMENT TO REMOVE ALL UNNECESSARY ARTICLES AND EQUIPMENT FROM THE PREMISES AND MAINTAIN. | 55. PHYSICAL FACILITIES INSTALLED, MAINTAINED & CLEAN - Comments: FOUND A THICK LAYER OF GREASE ON THE FLOOR UNDERNEATH AND BEHIND COOKING EQUIPMENT IN THE PREP AREA. INSTRUCTED MANAGEMENT TO DETAIL CLEAN AND MAINTAIN. | 58. ALLERGEN TRAINING AS REQUIRED - Comments: FOUND NO PROOF OF ALLERGEN TRAINING ON SITE FOR ALL CITY OF CHICAGO FOOD MANAGERS. INSTRUCTED MANAGEMENT THAT ALL CITY OF CHICAGO FOOD MANAGERS MUST COMPLETE ALLERGEN TRAINING AND KEEP CERTIFICATE ON SITE.',\n",
       "       '2. CITY OF CHICAGO FOOD SERVICE SANITATION CERTIFICATE - Comments: OBSERVED NO CERTIFIED FOOD MANAGER ON DUTY WHILE TCS FOODS ARE BEING SERVED SUCH AS TURKEY SANDWICHES, CUT FRUITS, CHEESECAKES,BANANA PUDDING, ETC. INSTRUCTED MANAGER THAT A CERTIFIED MANAGER MUST BE ON SITE AT ALL TIMES.(PRIORITY FOUNDATION 7-38-012)(CITATION ISSUED) | 3. MANAGEMENT, FOOD EMPLOYEE AND CONDITIONAL EMPLOYEE; KNOWLEDGE, RESPONSIBILITIES AND REPORTING - Comments: OBSERVED NO EMPLOYEE HEALTH POLICY ON SITE AS REQUIRED; MUST PROVIDE. INSTRUCTED THE PERSON IN CHARGE TO PROVIDE DOCUMENTATION OF EMPLOYEES RESPONSIBILITY TO REPORT ANY ILLNESS TRANSMISSIBLE THROUGH FOOD.PRIORITY FOUNDATION 7-38-010. CITATION ISSUED  | 10. ADEQUATE HANDWASHING SINKS PROPERLY SUPPLIED AND ACCESSIBLE - Comments: OBSERVED NO HAND WASHING SOAP/CLEANSER AT THE HAND WASHING SINK LOCATED IN THE KITCHEN/ MAIN PREP AREA. MANAGER REMOVED HAND SOAP FROM FRONT COUNTER TO PLACE IN KITCHEN LEAVING THE FRONT COUNTER WITHOUT SOAP. FACILITY HAS INADEQUATE SUPPLIES OF SOAP FOR THE NUMBER OF HAND SINKS. INSTRUCTED TO ALWAYS MAINTAIN HAND WASHING CLEANSER AT ALL HAND WASHING SINKS AT ALL TIMES. PRIORITY FOUNDATION. CITATION WRITTEN UNDER 6-301.12  | 10. ADEQUATE HANDWASHING SINKS PROPERLY SUPPLIED AND ACCESSIBLE - Comments: OBSERVED NO PAPER TOWELS OR SANITARY HAND DRYING DEVICES AT HAND SINK IN TOILET ROOM. INSTRUCTED MANAGER TO PROVIDE.  PRIORITY FOUNDATION.  7-38-030(C). CITATION ISSUED  | 16. FOOD-CONTACT SURFACES: CLEANED & SANITIZED - Comments: OBSERVED EXCESSIVE BLACK SUBSTANCE BUILD UP ON INSIDE INTERIOR PANEL OF ICE MACHINE AND DRIPPING ONTO ICE. MUST REMOVE BUILD UP, CLEAN, AND SANITIZE. PRIORITY FOUNDATION 7-38-005. CITATION ISSUED   | 23. PROPER DATE MARKING AND DISPOSITION - Comments: OBSERVED READY TO EAT TCS FOODS IN REFRIGERATOR AND FRONT DISPLAY CASE NOT DATE MARKED. INSTRUCTED THE MANAGER THAT ALL READY TO EAT TCS FOODS HELD FOR 24 HOURS MUST BE PROPERLY DATE MARKED WITH THE DATE THE FOOD WILL BE SOLD, DISCARDED OR CONSUMED. PRIORITY FOUNDATION  7-38-005. CITATION ISSUED  | 36. THERMOMETERS PROVIDED & ACCURATE - Comments: OBSERVED NO WORKING PROBE THERMOMETER ON SITE. INSTRUCTED MANAGER TO PROVIDE A WORKING PROBE THERMOMETER TO ACCURATELY RECORD FOOD TEMPERATURES.PRIORITY FOUNDATION. PRIORITY FOUNDATION 7-38-005 CITATION ISSUED. | 37. FOOD PROPERLY LABELED; ORIGINAL CONTAINER - Comments: OBSERVED CHEESECAKE, SALAD, GRILLED CHICKEN SALADS,LEMONADE AND CUT FRUITS WITH IDENTIFYING LABELS. INSTRUCTED MANAGER TO LABEL ALL FOODS WITH INGREDIENTS. | 38. INSECTS, RODENTS, & ANIMALS NOT PRESENT - Comments: OBSERVED 20-30 RODENT DROPPINGS IN KITCHEN ON FLOOR BEHIND PREP SURFACE AND NEAR ICE MACHINE. INSTRUCTED MANAGER TO CONTACT PEST CONTROL COMPANY FOR SERVICE, CLEAN AND SANITIZE. PRIORITY FOUNDATION 7-38-020(A). CITATION ISSUED | 38. INSECTS, RODENTS, & ANIMALS NOT PRESENT - Comments: OBSERVED NO PEST CONTROL LOG BOOK WITH SERVICE RECORDS OR PEST CONTROL LICENSE INFORMATION. INSTRUCTED MANAGER TO PROVIDE AND MAINTAIN. PRIORITY FOUNDATION 7-38-020(C). CITATION ISSUED | 38. INSECTS, RODENTS, & ANIMALS NOT PRESENT - Comments: OBSERVED SEVERAL SNAP TRAPS IN KITCHEN AROUND PERIMETER.INSTRUCTED MANAGER TO REMOVE AND OBTAIN PROPER EQUIPMENT FROM PEST CONTROL COMPANY FOR PROPER MITIGATION. | 41. WIPING CLOTHS: PROPERLY USED & STORED - Comments: OBSERVED SOILED WIPING CLOTHS STORED ON PREP TABLES. INSTRUCTED MANAGER TO STORE IN SANITIZING SOLUTION BETWEEN USES.  | 47. FOOD & NON-FOOD CONTACT SURFACES CLEANABLE, PROPERLY DESIGNED, CONSTRUCTED & USED - Comments: OBSERVED BOXES AND CRATES IN THE REAR STORAGE ROOM DIRECTLY ON THE FLOOR. MUST REMOVE AND PROVIDE SHELVING THAT IS 6 INCHES OFF THE FLOOR AND PROVIDES FLOOR ACCESSIBILITY TO ENSURE ADEQUATE FACILITY CLEANING. | 48. WAREWASHING FACILITIES: INSTALLED, MAINTAINED & USED; TEST STRIPS - Comments: OBSERVED QUATERNARY AMMONIA TEST STRIPS INTENDED TO BE USED FOR CHLORINE SANITIZING SOLUTION. INSTRUCTED MANAGER TO PROVIDE THE CORRECT TEST STRIPS WITH THE CORRESPONDING SANITIZING SOLUTION. PRIORITY FOUNDATION 7-38-005. CITATION ISSUED  | 55. PHYSICAL FACILITIES INSTALLED, MAINTAINED & CLEAN - Comments: OBSERVED EXCESS CLUTTER AND UNNECESSARY ARTICLES STORED IN SEVERAL ROOMS THROUGHOUT THE FACILITY. MUST REMOVE ALL UNNECESSARY ARTICLES, CLEAN ALL CLUTTER, ORGANIZE, AND MAINTAIN AREAS AT ALL TIMES',\n",
       "       ...,\n",
       "       \"18. NO EVIDENCE OF RODENT OR INSECT OUTER OPENINGS PROTECTED/RODENT PROOFED, A WRITTEN LOG SHALL BE MAINTAINED AVAILABLE TO THE INSPECTORS - Comments: INADEQUATE PEST CONTROL, FOUND OVER 30 RAT DROPPINGS IN DRY FOOD STORAGE ROOM, SEVERAL OPENINIGS IN WALLS AROUND PIPES NOTED, ALSO FOUND  2 LIVE COCKROACHES UNDER DISHMACHINE AT FIRST FLOOR, SEVERAL CRACKS AND CREVICES OBSERVED IN KITCHEN'S WALLS. INSTRUCTED MANAGER TO ELIMINATE RODENTS ACTIVITY IN ALL AFFECTED AREAS, SEAL AND PATCH ALL HOLES AND CRACKS, PEST CONTROL SERVICE RECOMMENDED. | 33. FOOD AND NON-FOOD CONTACT EQUIPMENT UTENSILS CLEAN, FREE OF ABRASIVE DETERGENTS - Comments: MUST CLEAN ALL SHEVES IN BSMT KITCHEN, INTERIOR SURFACES OF ICE MAKER, FAN COVER IN WALK-IN COOLERS. | 34. FLOORS: CONSTRUCTED PER CODE, CLEANED, GOOD REPAIR, COVING INSTALLED, DUST-LESS CLEANING METHODS USED - Comments: BASEMENT KITCHEN FLOOR TILES MISSING GROUT, INSTRUCTED TO REPAIR. | 35. WALLS, CEILINGS, ATTACHED EQUIPMENT CONSTRUCTED PER CODE: GOOD REPAIR, SURFACES CLEAN AND DUST-LESS CLEANING METHODS - Comments: MUST SEAL ALL HOLES AND CRACK  THRU OUT RESTAURANT. | 38. VENTILATION: ROOMS AND EQUIPMENT VENTED AS REQUIRED: PLUMBING: INSTALLED AND MAINTAINED - Comments: LEAKY ICE MAKER, INSTRUCTED TO REPAIR.\",\n",
       "       \"18. NO EVIDENCE OF RODENT OR INSECT OUTER OPENINGS PROTECTED/RODENT PROOFED, A WRITTEN LOG SHALL BE MAINTAINED AVAILABLE TO THE INSPECTORS - Comments: All necessary control measures shall be used to effectively minimize or eliminate the presence of rodents, roaches, and other vermin and insects on the premises of all food establishments, in food-transporting vehicles, and in vending machines.OBSERVED REAR DOOR NOT RODENT PROOFED 1'GAP UNDER DOOR MAKE DOOR TIGHT FITTING.CITATION ISSUED 7-38-020. | 32. FOOD AND NON-FOOD CONTACT SURFACES PROPERLY DESIGNED, CONSTRUCTED AND MAINTAINED - Comments: All food and non-food contact equipment and utensils shall be smooth, easily cleanable, and durable, and shall be in good repair.OBSERVED RUSTY STORAGE SHELF IN UTILITY ROOM MUST REMOVE RUST. | 34. FLOORS: CONSTRUCTED PER CODE, CLEANED, GOOD REPAIR, COVING INSTALLED, DUST-LESS CLEANING METHODS USED - Comments: The floors shall be constructed per code, be smooth and easily cleaned, and be kept clean and in good repair.CLEAN FLOOR PREP AREA BY COOKING EQUIPMENT. | 35. WALLS, CEILINGS, ATTACHED EQUIPMENT CONSTRUCTED PER CODE: GOOD REPAIR, SURFACES CLEAN AND DUST-LESS CLEANING METHODS - Comments: The walls and ceilings shall be in good repair and easily cleaned. CLEAN WALL BEHIND DISH MACHINE ALSO UNDER MACHINE. | 36. LIGHTING: REQUIRED MINIMUM FOOT-CANDLES OF LIGHT PROVIDED, FIXTURES SHIELDED - Comments: OBSERVED LIGHT SHIELDS DUSTY IN REAR PREP AREA, ALSO OBSERVED SEVERAL MISSING LIGHT SHIELDS  IN PREP AREA AND WALK IN COOLER. | 41. PREMISES MAINTAINED FREE OF LITTER, UNNECESSARY ARTICLES, CLEANING  EQUIPMENT PROPERLY STORED - Comments: All parts of the food establishment and all parts of the property used in connection with the operation of the establishment shall be kept neat and clean and should not produce any offensive odors. OBSERVED CLUTTER IN BASEMENT INSTRUCTED TO REMOVE ITEMS NOT BEING USED I.E. 2 PROPANE TANKS.\",\n",
       "       '33. FOOD AND NON-FOOD CONTACT EQUIPMENT UTENSILS CLEAN, FREE OF ABRASIVE DETERGENTS - Comments: INTERIOR/EXTERIOR OF COOLERS, STORAGE SHELVES, EXTERIOR OF TRASH CONTAINER NOT CLEAN. CLEAN SAME. | 35. WALLS, CEILINGS, ATTACHED EQUIPMENT CONSTRUCTED PER CODE: GOOD REPAIR, SURFACES CLEAN AND DUST-LESS CLEANING METHODS - Comments: CLEAN VENTS AND LIGHTSHIELDS THRU-OUT, DUST ACCUMULATION.'],\n",
       "      dtype=object)"
      ]
     },
     "execution_count": 263,
     "metadata": {},
     "output_type": "execute_result"
    }
   ],
   "source": [
    "data['Violations'].unique()"
   ]
  },
  {
   "cell_type": "markdown",
   "metadata": {},
   "source": [
    "# Outliers"
   ]
  },
  {
   "cell_type": "code",
   "execution_count": 261,
   "metadata": {},
   "outputs": [],
   "source": [
    "data.drop(data[data['violations_count_per_license'] > 50].index, inplace=True)"
   ]
  },
  {
   "cell_type": "code",
   "execution_count": 262,
   "metadata": {},
   "outputs": [
    {
     "data": {
      "image/png": "[encoded data removed]",
      "text/plain": [
       "<Figure size 720x432 with 1 Axes>"
      ]
     },
     "metadata": {
      "needs_background": "light"
     },
     "output_type": "display_data"
    }
   ],
   "source": [
    "# Scatter plot\n",
    "plt.figure(figsize=(10, 6))\n",
    "sns.scatterplot(x='violations_count_per_license', y='fail_rate_per_establishment', data=data)\n",
    "\n",
    "plt.title('Scatter Plot of violations_count_per_license & fail rate')\n",
    "plt.xlabel('violations_count_per_license')\n",
    "plt.ylabel('fail_rate_per_establishment')\n",
    "plt.show()"
   ]
  },
  {
   "cell_type": "code",
   "execution_count": null,
   "metadata": {},
   "outputs": [],
   "source": []
  },
  {
   "cell_type": "code",
   "execution_count": null,
   "metadata": {},
   "outputs": [],
   "source": []
  },
  {
   "cell_type": "code",
   "execution_count": 51,
   "metadata": {},
   "outputs": [],
   "source": [
    "#dealing with categorical data"
   ]
  },
  {
   "cell_type": "code",
   "execution_count": 307,
   "metadata": {},
   "outputs": [],
   "source": [
    "data = pd.concat([data, pd.get_dummies(data['Risk'], prefix='Risk', prefix_sep='_')], axis=1)\n"
   ]
  },
  {
   "cell_type": "code",
   "execution_count": 327,
   "metadata": {},
   "outputs": [],
   "source": [
    "# Filter facility types where the weight is greater than 5%\n",
    "selected_facility_types = facility_weight[facility_weight > 5].index\n",
    "\n",
    "# Create dummy variables only for the selected facility types\n",
    "dummy_columns = [f'Facility Type_{facility_type}' for facility_type in selected_facility_types]\n",
    "data = pd.concat([data, pd.get_dummies(data['Facility Type'], prefix='Facility Type', prefix_sep='_')[dummy_columns]], axis=1)"
   ]
  },
  {
   "cell_type": "code",
   "execution_count": 331,
   "metadata": {},
   "outputs": [],
   "source": [
    "# Filter facility types where the weight is lower than 5%\n",
    "other_facility_types = facility_weight[facility_weight <= 5].index\n",
    "\n",
    "# Create a new column 'Facility Type_other' with 1 if it's an other facility type, 0 otherwise\n",
    "data['Facility Type_other'] = data['Facility Type'].apply(lambda x: 1 if x in other_facility_types else 0)\n",
    "\n",
    "# Drop the original 'Facility Type' column\n",
    "data.drop(columns='Facility Type', inplace=True)"
   ]
  },
  {
   "cell_type": "code",
   "execution_count": 332,
   "metadata": {},
   "outputs": [
    {
     "name": "stdout",
     "output_type": "stream",
     "text": [
      "Inspection ID                    int64\n",
      "DBA Name                        object\n",
      "AKA Name                        object\n",
      "License #                      float64\n",
      "Risk                            object\n",
      "Address                         object\n",
      "City                            object\n",
      "State                           object\n",
      "Zip                            float64\n",
      "Inspection Date                 object\n",
      "Inspection Type                 object\n",
      "Violations                      object\n",
      "Latitude                       float64\n",
      "Longitude                      float64\n",
      "Location                        object\n",
      "Fail                             uint8\n",
      "Inspection_other                  bool\n",
      "Inspection_Canvass                bool\n",
      "Inspection_Suspect                bool\n",
      "Inspection_Task                   bool\n",
      "Inspection_Consultation           bool\n",
      "Inspection_Complaint              bool\n",
      "Inspection_License                bool\n",
      "fail_rate_per_establishment    float64\n",
      "Risk_All                         uint8\n",
      "Risk_Risk 1 (High)               uint8\n",
      "Risk_Risk 2 (Medium)             uint8\n",
      "Risk_Risk 3 (Low)                uint8\n",
      "Facility Type_Restaurant         uint8\n",
      "Facility Type_Grocery Store      uint8\n",
      "Facility Type_School             uint8\n",
      "Facility Type_other              int64\n",
      "dtype: object\n"
     ]
    }
   ],
   "source": [
    "print(data.dtypes)"
   ]
  },
  {
   "cell_type": "code",
   "execution_count": 55,
   "metadata": {},
   "outputs": [],
   "source": [
    "# columns_to_drop = ['Results', 'Pass', 'Latitude', 'Longitude', 'Location', 'Zip', 'Address', 'DBA Name', 'AKA Name']\n",
    "#columns_to_drop = ['Results', 'Inspection ID', 'Inspection Date', 'Pass', 'State', 'Latitude', 'Longitude', 'Address', 'DBA Name', 'AKA Name', 'Violations', 'Address', 'Zip', 'Location', 'Risk', 'City', 'Facility Type', 'Inspection Type']\n",
    "#data.drop(columns_to_drop, axis = 1, inplace = True)\n"
   ]
  },
  {
   "cell_type": "code",
   "execution_count": 338,
   "metadata": {},
   "outputs": [
    {
     "data": {
      "text/plain": [
       "Inspection ID                  0\n",
       "License #                      0\n",
       "Inspection Date                0\n",
       "Fail                           0\n",
       "Inspection_other               0\n",
       "Inspection_Canvass             0\n",
       "Inspection_Suspect             0\n",
       "Inspection_Task                0\n",
       "Inspection_Consultation        0\n",
       "Inspection_Complaint           0\n",
       "Inspection_License             0\n",
       "fail_rate_per_establishment    0\n",
       "Risk_All                       0\n",
       "Risk_Risk 1 (High)             0\n",
       "Risk_Risk 2 (Medium)           0\n",
       "Risk_Risk 3 (Low)              0\n",
       "Facility Type_Restaurant       0\n",
       "Facility Type_Grocery Store    0\n",
       "Facility Type_School           0\n",
       "Facility Type_other            0\n",
       "dtype: int64"
      ]
     },
     "execution_count": 338,
     "metadata": {},
     "output_type": "execute_result"
    }
   ],
   "source": [
    "data.isna().sum()"
   ]
  },
  {
   "cell_type": "code",
   "execution_count": 337,
   "metadata": {},
   "outputs": [],
   "source": [
    "# Drop rows with missing license numbers\n",
    "data.dropna(subset=['License #'], inplace=True)"
   ]
  },
  {
   "cell_type": "code",
   "execution_count": 57,
   "metadata": {},
   "outputs": [
    {
     "data": {
      "text/html": [
       "<div>\n",
       "<style scoped>\n",
       "    .dataframe tbody tr th:only-of-type {\n",
       "        vertical-align: middle;\n",
       "    }\n",
       "\n",
       "    .dataframe tbody tr th {\n",
       "        vertical-align: top;\n",
       "    }\n",
       "\n",
       "    .dataframe thead th {\n",
       "        text-align: right;\n",
       "    }\n",
       "</style>\n",
       "<table border=\"1\" class=\"dataframe\">\n",
       "  <thead>\n",
       "    <tr style=\"text-align: right;\">\n",
       "      <th></th>\n",
       "      <th>Inspection ID</th>\n",
       "      <th>License #</th>\n",
       "      <th>Facility Type</th>\n",
       "      <th>Risk</th>\n",
       "      <th>Zip</th>\n",
       "      <th>Inspection Date</th>\n",
       "      <th>Violations</th>\n",
       "      <th>Fail</th>\n",
       "      <th>Inspection_Canvass</th>\n",
       "      <th>Inspection_Suspect</th>\n",
       "      <th>...</th>\n",
       "      <th>Inspection_Consultation</th>\n",
       "      <th>Inspection_Complaint</th>\n",
       "      <th>Inspection_License</th>\n",
       "      <th>Risk_All</th>\n",
       "      <th>Risk_Risk 1 (High)</th>\n",
       "      <th>Risk_Risk 2 (Medium)</th>\n",
       "      <th>Risk_Risk 3 (Low)</th>\n",
       "      <th>Facility Type_Restaurant</th>\n",
       "      <th>Facility Type_Grocery Store</th>\n",
       "      <th>Facility Type_School</th>\n",
       "    </tr>\n",
       "  </thead>\n",
       "  <tbody>\n",
       "    <tr>\n",
       "      <th>0</th>\n",
       "      <td>2571281</td>\n",
       "      <td>2841387.0</td>\n",
       "      <td>Shared Kitchen User (Long Term)</td>\n",
       "      <td>Risk 1 (High)</td>\n",
       "      <td>90504.0</td>\n",
       "      <td>2/15/2023</td>\n",
       "      <td>NaN</td>\n",
       "      <td>0</td>\n",
       "      <td>True</td>\n",
       "      <td>False</td>\n",
       "      <td>...</td>\n",
       "      <td>False</td>\n",
       "      <td>False</td>\n",
       "      <td>False</td>\n",
       "      <td>0</td>\n",
       "      <td>1</td>\n",
       "      <td>0</td>\n",
       "      <td>0</td>\n",
       "      <td>0</td>\n",
       "      <td>0</td>\n",
       "      <td>0</td>\n",
       "    </tr>\n",
       "    <tr>\n",
       "      <th>1</th>\n",
       "      <td>2569647</td>\n",
       "      <td>25211.0</td>\n",
       "      <td>School</td>\n",
       "      <td>Risk 1 (High)</td>\n",
       "      <td>60646.0</td>\n",
       "      <td>1/13/2023</td>\n",
       "      <td>NaN</td>\n",
       "      <td>0</td>\n",
       "      <td>True</td>\n",
       "      <td>False</td>\n",
       "      <td>...</td>\n",
       "      <td>False</td>\n",
       "      <td>False</td>\n",
       "      <td>False</td>\n",
       "      <td>0</td>\n",
       "      <td>1</td>\n",
       "      <td>0</td>\n",
       "      <td>0</td>\n",
       "      <td>0</td>\n",
       "      <td>0</td>\n",
       "      <td>1</td>\n",
       "    </tr>\n",
       "    <tr>\n",
       "      <th>3</th>\n",
       "      <td>2568003</td>\n",
       "      <td>1909525.0</td>\n",
       "      <td>Restaurant</td>\n",
       "      <td>Risk 2 (Medium)</td>\n",
       "      <td>60666.0</td>\n",
       "      <td>12/5/2022</td>\n",
       "      <td>NaN</td>\n",
       "      <td>0</td>\n",
       "      <td>True</td>\n",
       "      <td>False</td>\n",
       "      <td>...</td>\n",
       "      <td>False</td>\n",
       "      <td>False</td>\n",
       "      <td>False</td>\n",
       "      <td>0</td>\n",
       "      <td>0</td>\n",
       "      <td>1</td>\n",
       "      <td>0</td>\n",
       "      <td>1</td>\n",
       "      <td>0</td>\n",
       "      <td>0</td>\n",
       "    </tr>\n",
       "    <tr>\n",
       "      <th>5</th>\n",
       "      <td>2567789</td>\n",
       "      <td>2232132.0</td>\n",
       "      <td>Restaurant</td>\n",
       "      <td>Risk 1 (High)</td>\n",
       "      <td>60623.0</td>\n",
       "      <td>11/30/2022</td>\n",
       "      <td>NaN</td>\n",
       "      <td>0</td>\n",
       "      <td>True</td>\n",
       "      <td>False</td>\n",
       "      <td>...</td>\n",
       "      <td>False</td>\n",
       "      <td>False</td>\n",
       "      <td>False</td>\n",
       "      <td>0</td>\n",
       "      <td>1</td>\n",
       "      <td>0</td>\n",
       "      <td>0</td>\n",
       "      <td>1</td>\n",
       "      <td>0</td>\n",
       "      <td>0</td>\n",
       "    </tr>\n",
       "    <tr>\n",
       "      <th>6</th>\n",
       "      <td>2567065</td>\n",
       "      <td>24841.0</td>\n",
       "      <td>School</td>\n",
       "      <td>Risk 1 (High)</td>\n",
       "      <td>60637.0</td>\n",
       "      <td>11/15/2022</td>\n",
       "      <td>NaN</td>\n",
       "      <td>0</td>\n",
       "      <td>True</td>\n",
       "      <td>False</td>\n",
       "      <td>...</td>\n",
       "      <td>False</td>\n",
       "      <td>False</td>\n",
       "      <td>False</td>\n",
       "      <td>0</td>\n",
       "      <td>1</td>\n",
       "      <td>0</td>\n",
       "      <td>0</td>\n",
       "      <td>0</td>\n",
       "      <td>0</td>\n",
       "      <td>1</td>\n",
       "    </tr>\n",
       "  </tbody>\n",
       "</table>\n",
       "<p>5 rows × 21 columns</p>\n",
       "</div>"
      ],
      "text/plain": [
       "   Inspection ID  License #                    Facility Type             Risk  \\\n",
       "0        2571281  2841387.0  Shared Kitchen User (Long Term)    Risk 1 (High)   \n",
       "1        2569647    25211.0                           School    Risk 1 (High)   \n",
       "3        2568003  1909525.0                       Restaurant  Risk 2 (Medium)   \n",
       "5        2567789  2232132.0                       Restaurant    Risk 1 (High)   \n",
       "6        2567065    24841.0                           School    Risk 1 (High)   \n",
       "\n",
       "       Zip Inspection Date  Violations  Fail  Inspection_Canvass  \\\n",
       "0  90504.0       2/15/2023         NaN     0                True   \n",
       "1  60646.0       1/13/2023         NaN     0                True   \n",
       "3  60666.0       12/5/2022         NaN     0                True   \n",
       "5  60623.0      11/30/2022         NaN     0                True   \n",
       "6  60637.0      11/15/2022         NaN     0                True   \n",
       "\n",
       "   Inspection_Suspect  ...  Inspection_Consultation  Inspection_Complaint  \\\n",
       "0               False  ...                    False                 False   \n",
       "1               False  ...                    False                 False   \n",
       "3               False  ...                    False                 False   \n",
       "5               False  ...                    False                 False   \n",
       "6               False  ...                    False                 False   \n",
       "\n",
       "   Inspection_License  Risk_All  Risk_Risk 1 (High)  Risk_Risk 2 (Medium)  \\\n",
       "0               False         0                   1                     0   \n",
       "1               False         0                   1                     0   \n",
       "3               False         0                   0                     1   \n",
       "5               False         0                   1                     0   \n",
       "6               False         0                   1                     0   \n",
       "\n",
       "   Risk_Risk 3 (Low)  Facility Type_Restaurant  Facility Type_Grocery Store  \\\n",
       "0                  0                         0                            0   \n",
       "1                  0                         0                            0   \n",
       "3                  0                         1                            0   \n",
       "5                  0                         1                            0   \n",
       "6                  0                         0                            0   \n",
       "\n",
       "   Facility Type_School  \n",
       "0                     0  \n",
       "1                     1  \n",
       "3                     0  \n",
       "5                     0  \n",
       "6                     1  \n",
       "\n",
       "[5 rows x 21 columns]"
      ]
     },
     "execution_count": 57,
     "metadata": {},
     "output_type": "execute_result"
    }
   ],
   "source": [
    "data.head()"
   ]
  },
  {
   "cell_type": "code",
   "execution_count": 334,
   "metadata": {},
   "outputs": [],
   "source": [
    "# columns_to_drop = ['DBA Name', 'AKA Name', 'Address', 'City', 'State', 'Latitude', 'Longitude', 'Location']\n",
    "columns_to_drop = ['DBA Name', 'AKA Name', 'Address', 'City', 'State', 'Latitude', 'Longitude', 'Location', 'Inspection Type','Risk', 'Zip', 'Violations']\n",
    "data.drop(columns_to_drop, axis = 1, inplace = True)"
   ]
  },
  {
   "cell_type": "code",
   "execution_count": 58,
   "metadata": {},
   "outputs": [],
   "source": [
    "#data.drop('Risk_All', axis = 1, inplace = True)"
   ]
  },
  {
   "cell_type": "code",
   "execution_count": 59,
   "metadata": {},
   "outputs": [
    {
     "data": {
      "text/plain": [
       "0"
      ]
     },
     "execution_count": 59,
     "metadata": {},
     "output_type": "execute_result"
    }
   ],
   "source": [
    "data.duplicated(\"Inspection ID\").sum()"
   ]
  },
  {
   "cell_type": "code",
   "execution_count": 339,
   "metadata": {},
   "outputs": [
    {
     "name": "stdout",
     "output_type": "stream",
     "text": [
      "Inspection ID                    int64\n",
      "License #                      float64\n",
      "Inspection Date                 object\n",
      "Fail                             uint8\n",
      "Inspection_other                  bool\n",
      "Inspection_Canvass                bool\n",
      "Inspection_Suspect                bool\n",
      "Inspection_Task                   bool\n",
      "Inspection_Consultation           bool\n",
      "Inspection_Complaint              bool\n",
      "Inspection_License                bool\n",
      "fail_rate_per_establishment    float64\n",
      "Risk_All                         uint8\n",
      "Risk_Risk 1 (High)               uint8\n",
      "Risk_Risk 2 (Medium)             uint8\n",
      "Risk_Risk 3 (Low)                uint8\n",
      "Facility Type_Restaurant         uint8\n",
      "Facility Type_Grocery Store      uint8\n",
      "Facility Type_School             uint8\n",
      "Facility Type_other              int64\n",
      "dtype: object\n"
     ]
    }
   ],
   "source": [
    "print(data.dtypes)"
   ]
  },
  {
   "cell_type": "code",
   "execution_count": null,
   "metadata": {},
   "outputs": [],
   "source": []
  },
  {
   "cell_type": "markdown",
   "metadata": {},
   "source": [
    "# #2 Train test split"
   ]
  },
  {
   "cell_type": "code",
   "execution_count": 342,
   "metadata": {},
   "outputs": [
    {
     "name": "stdout",
     "output_type": "stream",
     "text": [
      "Training set size: 127581\n",
      "Validation set size: 27339\n",
      "Test set size: 27339\n"
     ]
    }
   ],
   "source": [
    "from sklearn.model_selection import train_test_split\n",
    "\n",
    "# Define the features and target variable\n",
    "features = data.drop(['Fail', 'Inspection ID', 'License #', 'fail_rate_per_establishment', 'Inspection Date'], axis=1)\n",
    "target = data['Fail']\n",
    "\n",
    "# Split the data into training set (70%), test set (15%), and validation set (15%)\n",
    "X_train, X_temp, y_train, y_temp = train_test_split(features, target, test_size=0.3, random_state=42)\n",
    "X_val, X_test, y_val, y_test = train_test_split(X_temp, y_temp, test_size=0.5, random_state=42)\n",
    "\n",
    "# Print the sizes of the datasets\n",
    "print(\"Training set size:\", len(X_train))\n",
    "print(\"Validation set size:\", len(X_val))\n",
    "print(\"Test set size:\", len(X_test))"
   ]
  },
  {
   "cell_type": "code",
   "execution_count": 346,
   "metadata": {},
   "outputs": [],
   "source": [
    "from sklearn.linear_model import LogisticRegression\n",
    "from sklearn.tree import DecisionTreeClassifier\n",
    "from sklearn.ensemble import RandomForestClassifier, GradientBoostingClassifier\n"
   ]
  },
  {
   "cell_type": "code",
   "execution_count": 347,
   "metadata": {},
   "outputs": [],
   "source": [
    "logistic_regression = LogisticRegression(random_state=42)\n",
    "decision_tree = DecisionTreeClassifier(random_state=42)\n",
    "random_forest = RandomForestClassifier(random_state=42)\n",
    "gradient_boosting = GradientBoostingClassifier(random_state=42)"
   ]
  },
  {
   "cell_type": "code",
   "execution_count": 348,
   "metadata": {},
   "outputs": [],
   "source": [
    "from sklearn.model_selection import GridSearchCV"
   ]
  },
  {
   "cell_type": "code",
   "execution_count": 349,
   "metadata": {},
   "outputs": [],
   "source": [
    "# Define hyperparameter grids for tuning\n",
    "param_grid_logreg = {\n",
    "    'C': [0.1, 1, 10],\n",
    "    'penalty': ['l1', 'l2'],\n",
    "}\n",
    "\n",
    "param_grid_dt = {\n",
    "    'max_depth': [None, 10, 20],\n",
    "    'min_samples_split': [2, 5, 10],\n",
    "}\n",
    "\n",
    "param_grid_rf = {\n",
    "    'n_estimators': [50, 100, 200],\n",
    "    'max_depth': [None, 10, 20],\n",
    "}\n",
    "\n",
    "param_grid_gb = {\n",
    "    'n_estimators': [50, 100, 200],\n",
    "    'learning_rate': [0.1, 0.01, 0.001],\n",
    "}\n"
   ]
  },
  {
   "cell_type": "code",
   "execution_count": 350,
   "metadata": {},
   "outputs": [],
   "source": [
    "# Perform GridSearchCV for each model to find the best hyperparameters\n",
    "grid_search_logreg = GridSearchCV(logistic_regression, param_grid_logreg, cv=5)\n",
    "grid_search_dt = GridSearchCV(decision_tree, param_grid_dt, cv=5)\n",
    "grid_search_rf = GridSearchCV(random_forest, param_grid_rf, cv=5)\n",
    "grid_search_gb = GridSearchCV(gradient_boosting, param_grid_gb, cv=5)\n"
   ]
  },
  {
   "cell_type": "code",
   "execution_count": 351,
   "metadata": {},
   "outputs": [
    {
     "name": "stderr",
     "output_type": "stream",
     "text": [
      "C:\\Users\\Yelena\\Anaconda3\\lib\\site-packages\\sklearn\\linear_model\\_logistic.py:818: ConvergenceWarning: lbfgs failed to converge (status=1):\n",
      "STOP: TOTAL NO. of ITERATIONS REACHED LIMIT.\n",
      "\n",
      "Increase the number of iterations (max_iter) or scale the data as shown in:\n",
      "    https://scikit-learn.org/stable/modules/preprocessing.html\n",
      "Please also refer to the documentation for alternative solver options:\n",
      "    https://scikit-learn.org/stable/modules/linear_model.html#logistic-regression\n",
      "  extra_warning_msg=_LOGISTIC_SOLVER_CONVERGENCE_MSG,\n",
      "C:\\Users\\Yelena\\Anaconda3\\lib\\site-packages\\sklearn\\linear_model\\_logistic.py:818: ConvergenceWarning: lbfgs failed to converge (status=1):\n",
      "STOP: TOTAL NO. of ITERATIONS REACHED LIMIT.\n",
      "\n",
      "Increase the number of iterations (max_iter) or scale the data as shown in:\n",
      "    https://scikit-learn.org/stable/modules/preprocessing.html\n",
      "Please also refer to the documentation for alternative solver options:\n",
      "    https://scikit-learn.org/stable/modules/linear_model.html#logistic-regression\n",
      "  extra_warning_msg=_LOGISTIC_SOLVER_CONVERGENCE_MSG,\n",
      "C:\\Users\\Yelena\\Anaconda3\\lib\\site-packages\\sklearn\\linear_model\\_logistic.py:818: ConvergenceWarning: lbfgs failed to converge (status=1):\n",
      "STOP: TOTAL NO. of ITERATIONS REACHED LIMIT.\n",
      "\n",
      "Increase the number of iterations (max_iter) or scale the data as shown in:\n",
      "    https://scikit-learn.org/stable/modules/preprocessing.html\n",
      "Please also refer to the documentation for alternative solver options:\n",
      "    https://scikit-learn.org/stable/modules/linear_model.html#logistic-regression\n",
      "  extra_warning_msg=_LOGISTIC_SOLVER_CONVERGENCE_MSG,\n",
      "C:\\Users\\Yelena\\Anaconda3\\lib\\site-packages\\sklearn\\linear_model\\_logistic.py:818: ConvergenceWarning: lbfgs failed to converge (status=1):\n",
      "STOP: TOTAL NO. of ITERATIONS REACHED LIMIT.\n",
      "\n",
      "Increase the number of iterations (max_iter) or scale the data as shown in:\n",
      "    https://scikit-learn.org/stable/modules/preprocessing.html\n",
      "Please also refer to the documentation for alternative solver options:\n",
      "    https://scikit-learn.org/stable/modules/linear_model.html#logistic-regression\n",
      "  extra_warning_msg=_LOGISTIC_SOLVER_CONVERGENCE_MSG,\n",
      "C:\\Users\\Yelena\\Anaconda3\\lib\\site-packages\\sklearn\\linear_model\\_logistic.py:818: ConvergenceWarning: lbfgs failed to converge (status=1):\n",
      "STOP: TOTAL NO. of ITERATIONS REACHED LIMIT.\n",
      "\n",
      "Increase the number of iterations (max_iter) or scale the data as shown in:\n",
      "    https://scikit-learn.org/stable/modules/preprocessing.html\n",
      "Please also refer to the documentation for alternative solver options:\n",
      "    https://scikit-learn.org/stable/modules/linear_model.html#logistic-regression\n",
      "  extra_warning_msg=_LOGISTIC_SOLVER_CONVERGENCE_MSG,\n",
      "C:\\Users\\Yelena\\Anaconda3\\lib\\site-packages\\sklearn\\linear_model\\_logistic.py:818: ConvergenceWarning: lbfgs failed to converge (status=1):\n",
      "STOP: TOTAL NO. of ITERATIONS REACHED LIMIT.\n",
      "\n",
      "Increase the number of iterations (max_iter) or scale the data as shown in:\n",
      "    https://scikit-learn.org/stable/modules/preprocessing.html\n",
      "Please also refer to the documentation for alternative solver options:\n",
      "    https://scikit-learn.org/stable/modules/linear_model.html#logistic-regression\n",
      "  extra_warning_msg=_LOGISTIC_SOLVER_CONVERGENCE_MSG,\n",
      "C:\\Users\\Yelena\\Anaconda3\\lib\\site-packages\\sklearn\\linear_model\\_logistic.py:818: ConvergenceWarning: lbfgs failed to converge (status=1):\n",
      "STOP: TOTAL NO. of ITERATIONS REACHED LIMIT.\n",
      "\n",
      "Increase the number of iterations (max_iter) or scale the data as shown in:\n",
      "    https://scikit-learn.org/stable/modules/preprocessing.html\n",
      "Please also refer to the documentation for alternative solver options:\n",
      "    https://scikit-learn.org/stable/modules/linear_model.html#logistic-regression\n",
      "  extra_warning_msg=_LOGISTIC_SOLVER_CONVERGENCE_MSG,\n",
      "C:\\Users\\Yelena\\Anaconda3\\lib\\site-packages\\sklearn\\linear_model\\_logistic.py:818: ConvergenceWarning: lbfgs failed to converge (status=1):\n",
      "STOP: TOTAL NO. of ITERATIONS REACHED LIMIT.\n",
      "\n",
      "Increase the number of iterations (max_iter) or scale the data as shown in:\n",
      "    https://scikit-learn.org/stable/modules/preprocessing.html\n",
      "Please also refer to the documentation for alternative solver options:\n",
      "    https://scikit-learn.org/stable/modules/linear_model.html#logistic-regression\n",
      "  extra_warning_msg=_LOGISTIC_SOLVER_CONVERGENCE_MSG,\n",
      "C:\\Users\\Yelena\\Anaconda3\\lib\\site-packages\\sklearn\\model_selection\\_validation.py:372: FitFailedWarning: \n",
      "15 fits failed out of a total of 30.\n",
      "The score on these train-test partitions for these parameters will be set to nan.\n",
      "If these failures are not expected, you can try to debug them by setting error_score='raise'.\n",
      "\n",
      "Below are more details about the failures:\n",
      "--------------------------------------------------------------------------------\n",
      "15 fits failed with the following error:\n",
      "Traceback (most recent call last):\n",
      "  File \"C:\\Users\\Yelena\\Anaconda3\\lib\\site-packages\\sklearn\\model_selection\\_validation.py\", line 680, in _fit_and_score\n",
      "    estimator.fit(X_train, y_train, **fit_params)\n",
      "  File \"C:\\Users\\Yelena\\Anaconda3\\lib\\site-packages\\sklearn\\linear_model\\_logistic.py\", line 1461, in fit\n",
      "    solver = _check_solver(self.solver, self.penalty, self.dual)\n",
      "  File \"C:\\Users\\Yelena\\Anaconda3\\lib\\site-packages\\sklearn\\linear_model\\_logistic.py\", line 449, in _check_solver\n",
      "    % (solver, penalty)\n",
      "ValueError: Solver lbfgs supports only 'l2' or 'none' penalties, got l1 penalty.\n",
      "\n",
      "  warnings.warn(some_fits_failed_message, FitFailedWarning)\n",
      "C:\\Users\\Yelena\\Anaconda3\\lib\\site-packages\\sklearn\\model_selection\\_search.py:972: UserWarning: One or more of the test scores are non-finite: [       nan 0.72782782        nan 0.72814134        nan 0.72812566]\n",
      "  category=UserWarning,\n",
      "C:\\Users\\Yelena\\Anaconda3\\lib\\site-packages\\sklearn\\linear_model\\_logistic.py:818: ConvergenceWarning: lbfgs failed to converge (status=1):\n",
      "STOP: TOTAL NO. of ITERATIONS REACHED LIMIT.\n",
      "\n",
      "Increase the number of iterations (max_iter) or scale the data as shown in:\n",
      "    https://scikit-learn.org/stable/modules/preprocessing.html\n",
      "Please also refer to the documentation for alternative solver options:\n",
      "    https://scikit-learn.org/stable/modules/linear_model.html#logistic-regression\n",
      "  extra_warning_msg=_LOGISTIC_SOLVER_CONVERGENCE_MSG,\n"
     ]
    },
    {
     "data": {
      "text/plain": [
       "GridSearchCV(cv=5, estimator=GradientBoostingClassifier(random_state=42),\n",
       "             param_grid={'learning_rate': [0.1, 0.01, 0.001],\n",
       "                         'n_estimators': [50, 100, 200]})"
      ]
     },
     "execution_count": 351,
     "metadata": {},
     "output_type": "execute_result"
    }
   ],
   "source": [
    "# Fit the models with the training data\n",
    "grid_search_logreg.fit(X_train, y_train)\n",
    "grid_search_dt.fit(X_train, y_train)\n",
    "grid_search_rf.fit(X_train, y_train)\n",
    "grid_search_gb.fit(X_train, y_train)"
   ]
  },
  {
   "cell_type": "code",
   "execution_count": 352,
   "metadata": {},
   "outputs": [],
   "source": [
    "# Step 5: Evaluate Models\n",
    "from sklearn.metrics import accuracy_score, precision_score, recall_score, f1_score, roc_auc_score\n",
    "\n",
    "# Define a function to evaluate the models\n",
    "def evaluate_model(model, X, y):\n",
    "    y_pred = model.predict(X)\n",
    "    accuracy = accuracy_score(y, y_pred)\n",
    "    precision = precision_score(y, y_pred)\n",
    "    recall = recall_score(y, y_pred)\n",
    "    f1 = f1_score(y, y_pred)\n",
    "    roc_auc = roc_auc_score(y, y_pred)\n",
    "    return accuracy, precision, recall, f1, roc_auc"
   ]
  },
  {
   "cell_type": "code",
   "execution_count": 353,
   "metadata": {},
   "outputs": [],
   "source": [
    "# Evaluate the models on the validation set\n",
    "logreg_accuracy, logreg_precision, logreg_recall, logreg_f1, logreg_roc_auc = evaluate_model(grid_search_logreg, X_val, y_val)\n",
    "dt_accuracy, dt_precision, dt_recall, dt_f1, dt_roc_auc = evaluate_model(grid_search_dt, X_val, y_val)\n",
    "rf_accuracy, rf_precision, rf_recall, rf_f1, rf_roc_auc = evaluate_model(grid_search_rf, X_val, y_val)\n",
    "gb_accuracy, gb_precision, gb_recall, gb_f1, gb_roc_auc = evaluate_model(grid_search_gb, X_val, y_val)\n"
   ]
  },
  {
   "cell_type": "code",
   "execution_count": 354,
   "metadata": {},
   "outputs": [
    {
     "name": "stdout",
     "output_type": "stream",
     "text": [
      "Logistic Regression:\n",
      "Accuracy: 0.7282636526573759, Precision: 0.6039603960396039, Recall: 0.016329808593227146, F1: 0.0317998175420305, ROC-AUC: 0.5061516165978014\n",
      "Decision Tree:\n",
      "Accuracy: 0.7285562749186144, Precision: 0.6506024096385542, Recall: 0.014455896131709276, F1: 0.028283357339269347, ROC-AUC: 0.5057683144842158\n",
      "Random Forest:\n",
      "Accuracy: 0.728629430483924, Precision: 0.6625, Recall: 0.014188194351492437, F1: 0.027781417900668324, ROC-AUC: 0.5057351279790481\n",
      "Gradient Boosting:\n",
      "Accuracy: 0.7275686747869344, Precision: 0.5815602836879432, Recall: 0.010975772988890376, F1: 0.021544929059379925, ROC-AUC: 0.5040030868165712\n"
     ]
    }
   ],
   "source": [
    "# Print the evaluation metrics for each model\n",
    "print(\"Logistic Regression:\")\n",
    "print(f\"Accuracy: {logreg_accuracy}, Precision: {logreg_precision}, Recall: {logreg_recall}, F1: {logreg_f1}, ROC-AUC: {logreg_roc_auc}\")\n",
    "\n",
    "print(\"Decision Tree:\")\n",
    "print(f\"Accuracy: {dt_accuracy}, Precision: {dt_precision}, Recall: {dt_recall}, F1: {dt_f1}, ROC-AUC: {dt_roc_auc}\")\n",
    "\n",
    "print(\"Random Forest:\")\n",
    "print(f\"Accuracy: {rf_accuracy}, Precision: {rf_precision}, Recall: {rf_recall}, F1: {rf_f1}, ROC-AUC: {rf_roc_auc}\")\n",
    "\n",
    "print(\"Gradient Boosting:\")\n",
    "print(f\"Accuracy: {gb_accuracy}, Precision: {gb_precision}, Recall: {gb_recall}, F1: {gb_f1}, ROC-AUC: {gb_roc_auc}\")\n",
    "\n"
   ]
  },
  {
   "cell_type": "code",
   "execution_count": null,
   "metadata": {},
   "outputs": [],
   "source": []
  }
 ],
 "metadata": {
  "kernelspec": {
   "display_name": "Python 3",
   "language": "python",
   "name": "python3"
  },
  "language_info": {
   "codemirror_mode": {
    "name": "ipython",
    "version": 3
   },
   "file_extension": ".py",
   "mimetype": "text/x-python",
   "name": "python",
   "nbconvert_exporter": "python",
   "pygments_lexer": "ipython3",
   "version": "3.7.3"
  }
 },
 "nbformat": 4,
 "nbformat_minor": 2
}
